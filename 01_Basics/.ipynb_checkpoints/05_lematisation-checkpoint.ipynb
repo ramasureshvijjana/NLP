{
 "cells": [
  {
   "cell_type": "markdown",
   "id": "fce3006a",
   "metadata": {},
   "source": [
    "# Lemmatisation"
   ]
  },
  {
   "cell_type": "code",
   "execution_count": 7,
   "id": "8afa7fc8",
   "metadata": {},
   "outputs": [
    {
     "name": "stderr",
     "output_type": "stream",
     "text": [
      "[nltk_data] Downloading package wordnet to\n",
      "[nltk_data]     C:\\Users\\RAMU\\AppData\\Roaming\\nltk_data...\n",
      "[nltk_data]   Package wordnet is already up-to-date!\n"
     ]
    },
    {
     "data": {
      "text/plain": [
       "True"
      ]
     },
     "execution_count": 7,
     "metadata": {},
     "output_type": "execute_result"
    }
   ],
   "source": [
    "# Downloading wordnet\n",
    "import nltk\n",
    "nltk.download('wordnet')"
   ]
  },
  {
   "cell_type": "code",
   "execution_count": 8,
   "id": "c8e707eb",
   "metadata": {},
   "outputs": [
    {
     "data": {
      "text/plain": [
       "'flowering'"
      ]
     },
     "execution_count": 8,
     "metadata": {},
     "output_type": "execute_result"
    }
   ],
   "source": [
    "from nltk.stem import wordnet, WordNetLemmatizer\n",
    "\n",
    "lem = WordNetLemmatizer()\n",
    "lem.lemmatize('flowering') # Note: argument string should be lowercase"
   ]
  },
  {
   "cell_type": "markdown",
   "id": "ad16b780",
   "metadata": {},
   "source": [
    "## Apply Lemmatisation on Sentance\n",
    "### By Using NLTK"
   ]
  },
  {
   "cell_type": "code",
   "execution_count": 1,
   "id": "871086ad",
   "metadata": {},
   "outputs": [
    {
     "name": "stdout",
     "output_type": "stream",
     "text": [
      "i am in america , work a a data scientist and urgent to reporting @ 10:00 am every day… !\n"
     ]
    }
   ],
   "source": [
    "from nltk.stem import wordnet, WordNetLemmatizer\n",
    "from nltk.tokenize import word_tokenize\n",
    "\n",
    "# Input text\n",
    "text_data = 'i am in america, works as a data scientist and urgent to reporting @10:00 am every day…!'\n",
    "\n",
    "# Assigning WordNetLemmatizer() algorithm.\n",
    "lem = WordNetLemmatizer()\n",
    "# Tokenizing the input text.\n",
    "tokens = word_tokenize(text_data.lower())\n",
    "\n",
    "print( \" \".join([lem.lemmatize(word) for word in tokens]) )\n"
   ]
  },
  {
   "cell_type": "markdown",
   "id": "0b493e2f",
   "metadata": {},
   "source": [
    "### By Using Spacy\n",
    "> Lemmatization will not work properly after remove the stop words. Because the root words will miss in the text.  \n",
    "> We can observe the performance of lemmatization "
   ]
  },
  {
   "cell_type": "code",
   "execution_count": 18,
   "id": "d2558a64",
   "metadata": {},
   "outputs": [
    {
     "name": "stdout",
     "output_type": "stream",
     "text": [
      "I be in america , work as a data scientist and urgent to report @10:00 be every day … !\n"
     ]
    }
   ],
   "source": [
    "import spacy\n",
    "\n",
    "# Loading the nlp model\n",
    "nlp = spacy.load(\"en_core_web_sm\")\n",
    "# Creating document from nlp model\n",
    "stop_words_text = 'i am in america, working as a data scientist and urgent to reporting @10:00 am every day…!'\n",
    "doc = nlp(text)\n",
    "\n",
    "# Final text after romove stop words\n",
    "print(\" \".join([token.lemma_ for token in doc ]))"
   ]
  },
  {
   "cell_type": "code",
   "execution_count": 19,
   "id": "e6e7f655",
   "metadata": {},
   "outputs": [
    {
     "name": "stdout",
     "output_type": "stream",
     "text": [
      "America , Working DATA SCIENTIST reporting @10:00 day … !\n"
     ]
    }
   ],
   "source": [
    "text_without_sw = 'America , Working DATA SCIENTIST reporting @10:00 day … !'\n",
    "doc = nlp(text_without_sw)\n",
    "\n",
    "# Final text after romove stop words\n",
    "print(\" \".join([token.lemma_ for token in doc ]))"
   ]
  },
  {
   "cell_type": "code",
   "execution_count": null,
   "id": "6f14c9d5",
   "metadata": {},
   "outputs": [],
   "source": []
  }
 ],
 "metadata": {
  "kernelspec": {
   "display_name": "Python 3",
   "language": "python",
   "name": "python3"
  },
  "language_info": {
   "codemirror_mode": {
    "name": "ipython",
    "version": 3
   },
   "file_extension": ".py",
   "mimetype": "text/x-python",
   "name": "python",
   "nbconvert_exporter": "python",
   "pygments_lexer": "ipython3",
   "version": "3.8.3"
  }
 },
 "nbformat": 4,
 "nbformat_minor": 5
}
