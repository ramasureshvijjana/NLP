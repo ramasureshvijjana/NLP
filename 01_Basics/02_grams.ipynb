{
 "cells": [
  {
   "cell_type": "markdown",
   "id": "02eac3e6",
   "metadata": {},
   "source": [
    "## Grams"
   ]
  },
  {
   "cell_type": "code",
   "execution_count": null,
   "id": "7baa2294",
   "metadata": {},
   "outputs": [],
   "source": [
    "=> Total 3 types.\n",
    "    1. uni-gram\n",
    "    2. Bi-gram\n",
    "    3. Tri-gram\n",
    "    4. n-gram\n",
    "    "
   ]
  },
  {
   "cell_type": "markdown",
   "id": "fc7de5e6",
   "metadata": {},
   "source": [
    "### Tokenization"
   ]
  },
  {
   "cell_type": "code",
   "execution_count": 3,
   "id": "6eb29f6f",
   "metadata": {},
   "outputs": [
    {
     "name": "stdout",
     "output_type": "stream",
     "text": [
      "['Kribirsk', 'wasn', '’', 't', 'much', 'to', 'look', 'at', '.', 'According', 'to', 'the', 'Senior', 'Cartographer', ',', 'it', 'had', 'been', 'a', 'sleepy', 'market', 'town', 'in', 'the', 'days', 'before', 'the', 'Shadow', 'Fold', ',', 'little', 'more', 'than', 'a', 'dusty', 'main', 'square', 'and', 'an', 'inn', 'for', 'weary', 'travelers', 'on', 'the', 'Vy', '.', 'But', 'now', 'it', 'had', 'become', 'a', 'kind', 'of', 'ramshackle', 'port', 'city', ',', 'growing', 'up', 'around', 'a', 'permanent', 'military', 'encampment', 'and', 'the', 'drydocks', 'where', 'the', 'sandskiffs', 'waited', 'to', 'take', 'passengers', 'through', 'the', 'darkness', 'to', 'West', 'Ravka', '.', 'I', 'passed', 'taverns', 'and', 'pubs', 'and', 'what', 'I', 'was', 'pretty', 'sure', 'were', 'brothels', 'meant', 'to', 'cater', 'to', 'the', 'troops', 'of', 'the', 'King', '’', 's', 'Army', '.', 'There', 'were', 'shops', 'selling', 'rifles', 'and', 'crossbows', ',', 'lamps', 'and', 'torches', ',', 'all', 'necessary', 'equipment', 'for', 'a', 'trek', 'across', 'the', 'Fold', '.', 'The', 'little', 'church', 'with', 'its', 'whitewashed', 'walls', 'and', 'gleaming', 'onion', 'domes', 'was', 'in', 'surprisingly', 'good', 'repair', '.', 'Or', 'maybe', 'not', 'so', 'surprising', ',', 'I', 'considered', '.', 'Anyone', 'contemplating', 'a', 'trip', 'across', 'the', 'Shadow', 'Fold', 'would', 'be', 'smart', 'to', 'stop', 'and', 'pray', '.']\n"
     ]
    }
   ],
   "source": [
    "from nltk.tokenize import word_tokenize\n",
    "import nltk\n",
    "\n",
    "data = '''Kribirsk wasn’t much to look at. According to the Senior Cartographer, it had\n",
    "been a sleepy market town in the days before the Shadow Fold, little more than a\n",
    "dusty main square and an inn for weary travelers on the Vy. But now it had\n",
    "become a kind of ramshackle port city, growing up around a permanent military\n",
    "encampment and the drydocks where the sandskiffs waited to take passengers\n",
    "through the darkness to West Ravka. I passed taverns and pubs and what I was\n",
    "pretty sure were brothels meant to cater to the troops of the King’s Army. There\n",
    "were shops selling rifles and crossbows, lamps and torches, all necessary\n",
    "equipment for a trek across the Fold. The little church with its whitewashed\n",
    "walls and gleaming onion domes was in surprisingly good repair. Or maybe not\n",
    "so surprising, I considered. Anyone contemplating a trip across the Shadow Fold\n",
    "would be smart to stop and pray.'''\n",
    "\n",
    "tokens = word_tokenize(data)\n",
    "print(tokens)"
   ]
  },
  {
   "cell_type": "markdown",
   "id": "9c9ed85b",
   "metadata": {},
   "source": [
    "### Uni-gram"
   ]
  },
  {
   "cell_type": "code",
   "execution_count": null,
   "id": "57062013",
   "metadata": {},
   "outputs": [],
   "source": [
    "=> The above process is called uni-gram.\n",
    "=> unigram perform with word_tokenize() function"
   ]
  },
  {
   "cell_type": "markdown",
   "id": "e0e2d2fa",
   "metadata": {},
   "source": [
    "### Bi-gram"
   ]
  },
  {
   "cell_type": "code",
   "execution_count": 8,
   "id": "84fbdc1d",
   "metadata": {},
   "outputs": [
    {
     "name": "stdout",
     "output_type": "stream",
     "text": [
      "[('Kribirsk', 'wasn'), ('wasn', '’'), ('’', 't'), ('t', 'much'), ('much', 'to'), ('to', 'look'), ('look', 'at'), ('at', '.'), ('.', 'According'), ('According', 'to'), ('to', 'the'), ('the', 'Senior'), ('Senior', 'Cartographer'), ('Cartographer', ','), (',', 'it'), ('it', 'had'), ('had', 'been'), ('been', 'a'), ('a', 'sleepy'), ('sleepy', 'market'), ('market', 'town'), ('town', 'in'), ('in', 'the'), ('the', 'days'), ('days', 'before'), ('before', 'the'), ('the', 'Shadow'), ('Shadow', 'Fold'), ('Fold', ','), (',', 'little'), ('little', 'more'), ('more', 'than'), ('than', 'a'), ('a', 'dusty'), ('dusty', 'main'), ('main', 'square'), ('square', 'and'), ('and', 'an'), ('an', 'inn'), ('inn', 'for'), ('for', 'weary'), ('weary', 'travelers'), ('travelers', 'on'), ('on', 'the'), ('the', 'Vy'), ('Vy', '.'), ('.', 'But'), ('But', 'now'), ('now', 'it'), ('it', 'had'), ('had', 'become'), ('become', 'a'), ('a', 'kind'), ('kind', 'of'), ('of', 'ramshackle'), ('ramshackle', 'port'), ('port', 'city'), ('city', ','), (',', 'growing'), ('growing', 'up'), ('up', 'around'), ('around', 'a'), ('a', 'permanent'), ('permanent', 'military'), ('military', 'encampment'), ('encampment', 'and'), ('and', 'the'), ('the', 'drydocks'), ('drydocks', 'where'), ('where', 'the'), ('the', 'sandskiffs'), ('sandskiffs', 'waited'), ('waited', 'to'), ('to', 'take'), ('take', 'passengers'), ('passengers', 'through'), ('through', 'the'), ('the', 'darkness'), ('darkness', 'to'), ('to', 'West'), ('West', 'Ravka'), ('Ravka', '.'), ('.', 'I'), ('I', 'passed'), ('passed', 'taverns'), ('taverns', 'and'), ('and', 'pubs'), ('pubs', 'and'), ('and', 'what'), ('what', 'I'), ('I', 'was'), ('was', 'pretty'), ('pretty', 'sure'), ('sure', 'were'), ('were', 'brothels'), ('brothels', 'meant'), ('meant', 'to'), ('to', 'cater'), ('cater', 'to'), ('to', 'the'), ('the', 'troops'), ('troops', 'of'), ('of', 'the'), ('the', 'King'), ('King', '’'), ('’', 's'), ('s', 'Army'), ('Army', '.'), ('.', 'There'), ('There', 'were'), ('were', 'shops'), ('shops', 'selling'), ('selling', 'rifles'), ('rifles', 'and'), ('and', 'crossbows'), ('crossbows', ','), (',', 'lamps'), ('lamps', 'and'), ('and', 'torches'), ('torches', ','), (',', 'all'), ('all', 'necessary'), ('necessary', 'equipment'), ('equipment', 'for'), ('for', 'a'), ('a', 'trek'), ('trek', 'across'), ('across', 'the'), ('the', 'Fold'), ('Fold', '.'), ('.', 'The'), ('The', 'little'), ('little', 'church'), ('church', 'with'), ('with', 'its'), ('its', 'whitewashed'), ('whitewashed', 'walls'), ('walls', 'and'), ('and', 'gleaming'), ('gleaming', 'onion'), ('onion', 'domes'), ('domes', 'was'), ('was', 'in'), ('in', 'surprisingly'), ('surprisingly', 'good'), ('good', 'repair'), ('repair', '.'), ('.', 'Or'), ('Or', 'maybe'), ('maybe', 'not'), ('not', 'so'), ('so', 'surprising'), ('surprising', ','), (',', 'I'), ('I', 'considered'), ('considered', '.'), ('.', 'Anyone'), ('Anyone', 'contemplating'), ('contemplating', 'a'), ('a', 'trip'), ('trip', 'across'), ('across', 'the'), ('the', 'Shadow'), ('Shadow', 'Fold'), ('Fold', 'would'), ('would', 'be'), ('be', 'smart'), ('smart', 'to'), ('to', 'stop'), ('stop', 'and'), ('and', 'pray'), ('pray', '.')]\n"
     ]
    }
   ],
   "source": [
    "bi_gram = nltk.bigrams(tokens)\n",
    "print(list(bi_gram))"
   ]
  },
  {
   "cell_type": "markdown",
   "id": "a164b646",
   "metadata": {},
   "source": [
    "### Tri-gram"
   ]
  },
  {
   "cell_type": "code",
   "execution_count": 11,
   "id": "489b8726",
   "metadata": {},
   "outputs": [
    {
     "name": "stdout",
     "output_type": "stream",
     "text": [
      "[('Kribirsk', 'wasn', '’'), ('wasn', '’', 't'), ('’', 't', 'much'), ('t', 'much', 'to'), ('much', 'to', 'look'), ('to', 'look', 'at'), ('look', 'at', '.'), ('at', '.', 'According'), ('.', 'According', 'to'), ('According', 'to', 'the'), ('to', 'the', 'Senior'), ('the', 'Senior', 'Cartographer'), ('Senior', 'Cartographer', ','), ('Cartographer', ',', 'it'), (',', 'it', 'had'), ('it', 'had', 'been'), ('had', 'been', 'a'), ('been', 'a', 'sleepy'), ('a', 'sleepy', 'market'), ('sleepy', 'market', 'town'), ('market', 'town', 'in'), ('town', 'in', 'the'), ('in', 'the', 'days'), ('the', 'days', 'before'), ('days', 'before', 'the'), ('before', 'the', 'Shadow'), ('the', 'Shadow', 'Fold'), ('Shadow', 'Fold', ','), ('Fold', ',', 'little'), (',', 'little', 'more'), ('little', 'more', 'than'), ('more', 'than', 'a'), ('than', 'a', 'dusty'), ('a', 'dusty', 'main'), ('dusty', 'main', 'square'), ('main', 'square', 'and'), ('square', 'and', 'an'), ('and', 'an', 'inn'), ('an', 'inn', 'for'), ('inn', 'for', 'weary'), ('for', 'weary', 'travelers'), ('weary', 'travelers', 'on'), ('travelers', 'on', 'the'), ('on', 'the', 'Vy'), ('the', 'Vy', '.'), ('Vy', '.', 'But'), ('.', 'But', 'now'), ('But', 'now', 'it'), ('now', 'it', 'had'), ('it', 'had', 'become'), ('had', 'become', 'a'), ('become', 'a', 'kind'), ('a', 'kind', 'of'), ('kind', 'of', 'ramshackle'), ('of', 'ramshackle', 'port'), ('ramshackle', 'port', 'city'), ('port', 'city', ','), ('city', ',', 'growing'), (',', 'growing', 'up'), ('growing', 'up', 'around'), ('up', 'around', 'a'), ('around', 'a', 'permanent'), ('a', 'permanent', 'military'), ('permanent', 'military', 'encampment'), ('military', 'encampment', 'and'), ('encampment', 'and', 'the'), ('and', 'the', 'drydocks'), ('the', 'drydocks', 'where'), ('drydocks', 'where', 'the'), ('where', 'the', 'sandskiffs'), ('the', 'sandskiffs', 'waited'), ('sandskiffs', 'waited', 'to'), ('waited', 'to', 'take'), ('to', 'take', 'passengers'), ('take', 'passengers', 'through'), ('passengers', 'through', 'the'), ('through', 'the', 'darkness'), ('the', 'darkness', 'to'), ('darkness', 'to', 'West'), ('to', 'West', 'Ravka'), ('West', 'Ravka', '.'), ('Ravka', '.', 'I'), ('.', 'I', 'passed'), ('I', 'passed', 'taverns'), ('passed', 'taverns', 'and'), ('taverns', 'and', 'pubs'), ('and', 'pubs', 'and'), ('pubs', 'and', 'what'), ('and', 'what', 'I'), ('what', 'I', 'was'), ('I', 'was', 'pretty'), ('was', 'pretty', 'sure'), ('pretty', 'sure', 'were'), ('sure', 'were', 'brothels'), ('were', 'brothels', 'meant'), ('brothels', 'meant', 'to'), ('meant', 'to', 'cater'), ('to', 'cater', 'to'), ('cater', 'to', 'the'), ('to', 'the', 'troops'), ('the', 'troops', 'of'), ('troops', 'of', 'the'), ('of', 'the', 'King'), ('the', 'King', '’'), ('King', '’', 's'), ('’', 's', 'Army'), ('s', 'Army', '.'), ('Army', '.', 'There'), ('.', 'There', 'were'), ('There', 'were', 'shops'), ('were', 'shops', 'selling'), ('shops', 'selling', 'rifles'), ('selling', 'rifles', 'and'), ('rifles', 'and', 'crossbows'), ('and', 'crossbows', ','), ('crossbows', ',', 'lamps'), (',', 'lamps', 'and'), ('lamps', 'and', 'torches'), ('and', 'torches', ','), ('torches', ',', 'all'), (',', 'all', 'necessary'), ('all', 'necessary', 'equipment'), ('necessary', 'equipment', 'for'), ('equipment', 'for', 'a'), ('for', 'a', 'trek'), ('a', 'trek', 'across'), ('trek', 'across', 'the'), ('across', 'the', 'Fold'), ('the', 'Fold', '.'), ('Fold', '.', 'The'), ('.', 'The', 'little'), ('The', 'little', 'church'), ('little', 'church', 'with'), ('church', 'with', 'its'), ('with', 'its', 'whitewashed'), ('its', 'whitewashed', 'walls'), ('whitewashed', 'walls', 'and'), ('walls', 'and', 'gleaming'), ('and', 'gleaming', 'onion'), ('gleaming', 'onion', 'domes'), ('onion', 'domes', 'was'), ('domes', 'was', 'in'), ('was', 'in', 'surprisingly'), ('in', 'surprisingly', 'good'), ('surprisingly', 'good', 'repair'), ('good', 'repair', '.'), ('repair', '.', 'Or'), ('.', 'Or', 'maybe'), ('Or', 'maybe', 'not'), ('maybe', 'not', 'so'), ('not', 'so', 'surprising'), ('so', 'surprising', ','), ('surprising', ',', 'I'), (',', 'I', 'considered'), ('I', 'considered', '.'), ('considered', '.', 'Anyone'), ('.', 'Anyone', 'contemplating'), ('Anyone', 'contemplating', 'a'), ('contemplating', 'a', 'trip'), ('a', 'trip', 'across'), ('trip', 'across', 'the'), ('across', 'the', 'Shadow'), ('the', 'Shadow', 'Fold'), ('Shadow', 'Fold', 'would'), ('Fold', 'would', 'be'), ('would', 'be', 'smart'), ('be', 'smart', 'to'), ('smart', 'to', 'stop'), ('to', 'stop', 'and'), ('stop', 'and', 'pray'), ('and', 'pray', '.')]\n"
     ]
    }
   ],
   "source": [
    "tri_gram = nltk.trigrams(tokens)\n",
    "print(list(tri_gram))"
   ]
  },
  {
   "cell_type": "markdown",
   "id": "708288d1",
   "metadata": {},
   "source": [
    "### N-gram"
   ]
  },
  {
   "cell_type": "code",
   "execution_count": 13,
   "id": "9032202c",
   "metadata": {},
   "outputs": [
    {
     "name": "stdout",
     "output_type": "stream",
     "text": [
      "[('Kribirsk', 'wasn', '’', 't', 'much'), ('wasn', '’', 't', 'much', 'to'), ('’', 't', 'much', 'to', 'look'), ('t', 'much', 'to', 'look', 'at'), ('much', 'to', 'look', 'at', '.'), ('to', 'look', 'at', '.', 'According'), ('look', 'at', '.', 'According', 'to'), ('at', '.', 'According', 'to', 'the'), ('.', 'According', 'to', 'the', 'Senior'), ('According', 'to', 'the', 'Senior', 'Cartographer'), ('to', 'the', 'Senior', 'Cartographer', ','), ('the', 'Senior', 'Cartographer', ',', 'it'), ('Senior', 'Cartographer', ',', 'it', 'had'), ('Cartographer', ',', 'it', 'had', 'been'), (',', 'it', 'had', 'been', 'a'), ('it', 'had', 'been', 'a', 'sleepy'), ('had', 'been', 'a', 'sleepy', 'market'), ('been', 'a', 'sleepy', 'market', 'town'), ('a', 'sleepy', 'market', 'town', 'in'), ('sleepy', 'market', 'town', 'in', 'the'), ('market', 'town', 'in', 'the', 'days'), ('town', 'in', 'the', 'days', 'before'), ('in', 'the', 'days', 'before', 'the'), ('the', 'days', 'before', 'the', 'Shadow'), ('days', 'before', 'the', 'Shadow', 'Fold'), ('before', 'the', 'Shadow', 'Fold', ','), ('the', 'Shadow', 'Fold', ',', 'little'), ('Shadow', 'Fold', ',', 'little', 'more'), ('Fold', ',', 'little', 'more', 'than'), (',', 'little', 'more', 'than', 'a'), ('little', 'more', 'than', 'a', 'dusty'), ('more', 'than', 'a', 'dusty', 'main'), ('than', 'a', 'dusty', 'main', 'square'), ('a', 'dusty', 'main', 'square', 'and'), ('dusty', 'main', 'square', 'and', 'an'), ('main', 'square', 'and', 'an', 'inn'), ('square', 'and', 'an', 'inn', 'for'), ('and', 'an', 'inn', 'for', 'weary'), ('an', 'inn', 'for', 'weary', 'travelers'), ('inn', 'for', 'weary', 'travelers', 'on'), ('for', 'weary', 'travelers', 'on', 'the'), ('weary', 'travelers', 'on', 'the', 'Vy'), ('travelers', 'on', 'the', 'Vy', '.'), ('on', 'the', 'Vy', '.', 'But'), ('the', 'Vy', '.', 'But', 'now'), ('Vy', '.', 'But', 'now', 'it'), ('.', 'But', 'now', 'it', 'had'), ('But', 'now', 'it', 'had', 'become'), ('now', 'it', 'had', 'become', 'a'), ('it', 'had', 'become', 'a', 'kind'), ('had', 'become', 'a', 'kind', 'of'), ('become', 'a', 'kind', 'of', 'ramshackle'), ('a', 'kind', 'of', 'ramshackle', 'port'), ('kind', 'of', 'ramshackle', 'port', 'city'), ('of', 'ramshackle', 'port', 'city', ','), ('ramshackle', 'port', 'city', ',', 'growing'), ('port', 'city', ',', 'growing', 'up'), ('city', ',', 'growing', 'up', 'around'), (',', 'growing', 'up', 'around', 'a'), ('growing', 'up', 'around', 'a', 'permanent'), ('up', 'around', 'a', 'permanent', 'military'), ('around', 'a', 'permanent', 'military', 'encampment'), ('a', 'permanent', 'military', 'encampment', 'and'), ('permanent', 'military', 'encampment', 'and', 'the'), ('military', 'encampment', 'and', 'the', 'drydocks'), ('encampment', 'and', 'the', 'drydocks', 'where'), ('and', 'the', 'drydocks', 'where', 'the'), ('the', 'drydocks', 'where', 'the', 'sandskiffs'), ('drydocks', 'where', 'the', 'sandskiffs', 'waited'), ('where', 'the', 'sandskiffs', 'waited', 'to'), ('the', 'sandskiffs', 'waited', 'to', 'take'), ('sandskiffs', 'waited', 'to', 'take', 'passengers'), ('waited', 'to', 'take', 'passengers', 'through'), ('to', 'take', 'passengers', 'through', 'the'), ('take', 'passengers', 'through', 'the', 'darkness'), ('passengers', 'through', 'the', 'darkness', 'to'), ('through', 'the', 'darkness', 'to', 'West'), ('the', 'darkness', 'to', 'West', 'Ravka'), ('darkness', 'to', 'West', 'Ravka', '.'), ('to', 'West', 'Ravka', '.', 'I'), ('West', 'Ravka', '.', 'I', 'passed'), ('Ravka', '.', 'I', 'passed', 'taverns'), ('.', 'I', 'passed', 'taverns', 'and'), ('I', 'passed', 'taverns', 'and', 'pubs'), ('passed', 'taverns', 'and', 'pubs', 'and'), ('taverns', 'and', 'pubs', 'and', 'what'), ('and', 'pubs', 'and', 'what', 'I'), ('pubs', 'and', 'what', 'I', 'was'), ('and', 'what', 'I', 'was', 'pretty'), ('what', 'I', 'was', 'pretty', 'sure'), ('I', 'was', 'pretty', 'sure', 'were'), ('was', 'pretty', 'sure', 'were', 'brothels'), ('pretty', 'sure', 'were', 'brothels', 'meant'), ('sure', 'were', 'brothels', 'meant', 'to'), ('were', 'brothels', 'meant', 'to', 'cater'), ('brothels', 'meant', 'to', 'cater', 'to'), ('meant', 'to', 'cater', 'to', 'the'), ('to', 'cater', 'to', 'the', 'troops'), ('cater', 'to', 'the', 'troops', 'of'), ('to', 'the', 'troops', 'of', 'the'), ('the', 'troops', 'of', 'the', 'King'), ('troops', 'of', 'the', 'King', '’'), ('of', 'the', 'King', '’', 's'), ('the', 'King', '’', 's', 'Army'), ('King', '’', 's', 'Army', '.'), ('’', 's', 'Army', '.', 'There'), ('s', 'Army', '.', 'There', 'were'), ('Army', '.', 'There', 'were', 'shops'), ('.', 'There', 'were', 'shops', 'selling'), ('There', 'were', 'shops', 'selling', 'rifles'), ('were', 'shops', 'selling', 'rifles', 'and'), ('shops', 'selling', 'rifles', 'and', 'crossbows'), ('selling', 'rifles', 'and', 'crossbows', ','), ('rifles', 'and', 'crossbows', ',', 'lamps'), ('and', 'crossbows', ',', 'lamps', 'and'), ('crossbows', ',', 'lamps', 'and', 'torches'), (',', 'lamps', 'and', 'torches', ','), ('lamps', 'and', 'torches', ',', 'all'), ('and', 'torches', ',', 'all', 'necessary'), ('torches', ',', 'all', 'necessary', 'equipment'), (',', 'all', 'necessary', 'equipment', 'for'), ('all', 'necessary', 'equipment', 'for', 'a'), ('necessary', 'equipment', 'for', 'a', 'trek'), ('equipment', 'for', 'a', 'trek', 'across'), ('for', 'a', 'trek', 'across', 'the'), ('a', 'trek', 'across', 'the', 'Fold'), ('trek', 'across', 'the', 'Fold', '.'), ('across', 'the', 'Fold', '.', 'The'), ('the', 'Fold', '.', 'The', 'little'), ('Fold', '.', 'The', 'little', 'church'), ('.', 'The', 'little', 'church', 'with'), ('The', 'little', 'church', 'with', 'its'), ('little', 'church', 'with', 'its', 'whitewashed'), ('church', 'with', 'its', 'whitewashed', 'walls'), ('with', 'its', 'whitewashed', 'walls', 'and'), ('its', 'whitewashed', 'walls', 'and', 'gleaming'), ('whitewashed', 'walls', 'and', 'gleaming', 'onion'), ('walls', 'and', 'gleaming', 'onion', 'domes'), ('and', 'gleaming', 'onion', 'domes', 'was'), ('gleaming', 'onion', 'domes', 'was', 'in'), ('onion', 'domes', 'was', 'in', 'surprisingly'), ('domes', 'was', 'in', 'surprisingly', 'good'), ('was', 'in', 'surprisingly', 'good', 'repair'), ('in', 'surprisingly', 'good', 'repair', '.'), ('surprisingly', 'good', 'repair', '.', 'Or'), ('good', 'repair', '.', 'Or', 'maybe'), ('repair', '.', 'Or', 'maybe', 'not'), ('.', 'Or', 'maybe', 'not', 'so'), ('Or', 'maybe', 'not', 'so', 'surprising'), ('maybe', 'not', 'so', 'surprising', ','), ('not', 'so', 'surprising', ',', 'I'), ('so', 'surprising', ',', 'I', 'considered'), ('surprising', ',', 'I', 'considered', '.'), (',', 'I', 'considered', '.', 'Anyone'), ('I', 'considered', '.', 'Anyone', 'contemplating'), ('considered', '.', 'Anyone', 'contemplating', 'a'), ('.', 'Anyone', 'contemplating', 'a', 'trip'), ('Anyone', 'contemplating', 'a', 'trip', 'across'), ('contemplating', 'a', 'trip', 'across', 'the'), ('a', 'trip', 'across', 'the', 'Shadow'), ('trip', 'across', 'the', 'Shadow', 'Fold'), ('across', 'the', 'Shadow', 'Fold', 'would'), ('the', 'Shadow', 'Fold', 'would', 'be'), ('Shadow', 'Fold', 'would', 'be', 'smart'), ('Fold', 'would', 'be', 'smart', 'to'), ('would', 'be', 'smart', 'to', 'stop'), ('be', 'smart', 'to', 'stop', 'and'), ('smart', 'to', 'stop', 'and', 'pray'), ('to', 'stop', 'and', 'pray', '.')]\n"
     ]
    }
   ],
   "source": [
    "n_gram = nltk.ngrams(tokens, 5)\n",
    "print(list(n_gram))"
   ]
  }
 ],
 "metadata": {
  "kernelspec": {
   "display_name": "Python 3",
   "language": "python",
   "name": "python3"
  },
  "language_info": {
   "codemirror_mode": {
    "name": "ipython",
    "version": 3
   },
   "file_extension": ".py",
   "mimetype": "text/x-python",
   "name": "python",
   "nbconvert_exporter": "python",
   "pygments_lexer": "ipython3",
   "version": "3.8.3"
  }
 },
 "nbformat": 4,
 "nbformat_minor": 5
}
