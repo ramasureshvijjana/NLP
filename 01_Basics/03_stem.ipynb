{
 "cells": [
  {
   "cell_type": "markdown",
   "id": "5c5c3655",
   "metadata": {},
   "source": [
    "## Stemming"
   ]
  },
  {
   "cell_type": "code",
   "execution_count": 1,
   "id": "51e9c422",
   "metadata": {},
   "outputs": [
    {
     "data": {
      "text/plain": [
       "'studi'"
      ]
     },
     "execution_count": 1,
     "metadata": {},
     "output_type": "execute_result"
    }
   ],
   "source": [
    "from nltk.stem import PorterStemmer\n",
    "\n",
    "# Create a obj for PorterStemmer\n",
    "pst = PorterStemmer()\n",
    "\n",
    "pst.stem('Studies')"
   ]
  },
  {
   "cell_type": "markdown",
   "id": "0cc0b325",
   "metadata": {},
   "source": [
    "### Apply stemming on many words"
   ]
  },
  {
   "cell_type": "code",
   "execution_count": 2,
   "id": "f7444819",
   "metadata": {},
   "outputs": [
    {
     "name": "stdout",
     "output_type": "stream",
     "text": [
      "['kribirsk', 'wasn', '’', 't', 'much', 'to', 'look', 'at', '.', 'accord', 'to', 'the', 'senior', 'cartograph', ',', 'it', 'had', 'been', 'a', 'sleepi', 'market', 'town', 'in', 'the', 'day', 'befor', 'the', 'shadow', 'fold', ',', 'littl', 'more', 'than', 'a', 'dusti', 'main', 'squar', 'and', 'an', 'inn', 'for', 'weari', 'travel', 'on', 'the', 'vy', '.', 'but', 'now', 'it', 'had', 'becom', 'a', 'kind', 'of', 'ramshackl', 'port', 'citi', ',', 'grow', 'up', 'around', 'a', 'perman', 'militari', 'encamp', 'and', 'the', 'drydock', 'where', 'the', 'sandskiff', 'wait', 'to', 'take', 'passeng', 'through', 'the', 'dark', 'to', 'west', 'ravka', '.', 'i', 'pass', 'tavern', 'and', 'pub', 'and', 'what', 'i', 'wa', 'pretti', 'sure', 'were', 'brothel', 'meant', 'to', 'cater', 'to', 'the', 'troop', 'of', 'the', 'king', '’', 's', 'armi', '.', 'there', 'were', 'shop', 'sell', 'rifl', 'and', 'crossbow', ',', 'lamp', 'and', 'torch', ',', 'all', 'necessari', 'equip', 'for', 'a', 'trek', 'across', 'the', 'fold', '.', 'the', 'littl', 'church', 'with', 'it', 'whitewash', 'wall', 'and', 'gleam', 'onion', 'dome', 'wa', 'in', 'surprisingli', 'good', 'repair', '.', 'or', 'mayb', 'not', 'so', 'surpris', ',', 'i', 'consid', '.', 'anyon', 'contempl', 'a', 'trip', 'across', 'the', 'shadow', 'fold', 'would', 'be', 'smart', 'to', 'stop', 'and', 'pray', '.']\n"
     ]
    }
   ],
   "source": [
    "# Takindg text data\n",
    "data = '''Kribirsk wasn’t much to look at. According to the Senior Cartographer, it had\n",
    "been a sleepy market town in the days before the Shadow Fold, little more than a\n",
    "dusty main square and an inn for weary travelers on the Vy. But now it had\n",
    "become a kind of ramshackle port city, growing up around a permanent military\n",
    "encampment and the drydocks where the sandskiffs waited to take passengers\n",
    "through the darkness to West Ravka. I passed taverns and pubs and what I was\n",
    "pretty sure were brothels meant to cater to the troops of the King’s Army. There\n",
    "were shops selling rifles and crossbows, lamps and torches, all necessary\n",
    "equipment for a trek across the Fold. The little church with its whitewashed\n",
    "walls and gleaming onion domes was in surprisingly good repair. Or maybe not\n",
    "so surprising, I considered. Anyone contemplating a trip across the Shadow Fold\n",
    "would be smart to stop and pray.'''\n",
    "\n",
    "# Perform Tokenization\n",
    "from nltk.tokenize import word_tokenize\n",
    "\n",
    "tokens = word_tokenize(data)\n",
    "stem_data = []\n",
    "for token in tokens:\n",
    "    stem_data.append(pst.stem(token))\n",
    "    \n",
    "print(stem_data)"
   ]
  },
  {
   "cell_type": "code",
   "execution_count": 3,
   "id": "d7149b9e",
   "metadata": {},
   "outputs": [
    {
     "ename": "AttributeError",
     "evalue": "'list' object has no attribute 'lower'",
     "output_type": "error",
     "traceback": [
      "\u001b[1;31m---------------------------------------------------------------------------\u001b[0m",
      "\u001b[1;31mAttributeError\u001b[0m                            Traceback (most recent call last)",
      "\u001b[1;32m<ipython-input-3-5f4380503120>\u001b[0m in \u001b[0;36m<module>\u001b[1;34m\u001b[0m\n\u001b[1;32m----> 1\u001b[1;33m \u001b[0mpst\u001b[0m\u001b[1;33m.\u001b[0m\u001b[0mstem\u001b[0m\u001b[1;33m(\u001b[0m\u001b[0mtokens\u001b[0m\u001b[1;33m)\u001b[0m\u001b[1;33m\u001b[0m\u001b[1;33m\u001b[0m\u001b[0m\n\u001b[0m",
      "\u001b[1;32m~\\anaconda3\\lib\\site-packages\\nltk\\stem\\porter.py\u001b[0m in \u001b[0;36mstem\u001b[1;34m(self, word, to_lowercase)\u001b[0m\n\u001b[0;32m    653\u001b[0m         \u001b[1;33m:\u001b[0m\u001b[0mparam\u001b[0m \u001b[0mto_lowercase\u001b[0m\u001b[1;33m:\u001b[0m \u001b[1;32mif\u001b[0m\u001b[0;31m \u001b[0m\u001b[0;31m`\u001b[0m\u001b[0mto_lowercase\u001b[0m\u001b[1;33m=\u001b[0m\u001b[1;32mTrue\u001b[0m\u001b[0;31m`\u001b[0m \u001b[0mthe\u001b[0m \u001b[0mword\u001b[0m \u001b[0malways\u001b[0m \u001b[0mlowercase\u001b[0m\u001b[1;33m\u001b[0m\u001b[1;33m\u001b[0m\u001b[0m\n\u001b[0;32m    654\u001b[0m         \"\"\"\n\u001b[1;32m--> 655\u001b[1;33m         \u001b[0mstem\u001b[0m \u001b[1;33m=\u001b[0m \u001b[0mword\u001b[0m\u001b[1;33m.\u001b[0m\u001b[0mlower\u001b[0m\u001b[1;33m(\u001b[0m\u001b[1;33m)\u001b[0m \u001b[1;32mif\u001b[0m \u001b[0mto_lowercase\u001b[0m \u001b[1;32melse\u001b[0m \u001b[0mword\u001b[0m\u001b[1;33m\u001b[0m\u001b[1;33m\u001b[0m\u001b[0m\n\u001b[0m\u001b[0;32m    656\u001b[0m \u001b[1;33m\u001b[0m\u001b[0m\n\u001b[0;32m    657\u001b[0m         \u001b[1;32mif\u001b[0m \u001b[0mself\u001b[0m\u001b[1;33m.\u001b[0m\u001b[0mmode\u001b[0m \u001b[1;33m==\u001b[0m \u001b[0mself\u001b[0m\u001b[1;33m.\u001b[0m\u001b[0mNLTK_EXTENSIONS\u001b[0m \u001b[1;32mand\u001b[0m \u001b[0mword\u001b[0m \u001b[1;32min\u001b[0m \u001b[0mself\u001b[0m\u001b[1;33m.\u001b[0m\u001b[0mpool\u001b[0m\u001b[1;33m:\u001b[0m\u001b[1;33m\u001b[0m\u001b[1;33m\u001b[0m\u001b[0m\n",
      "\u001b[1;31mAttributeError\u001b[0m: 'list' object has no attribute 'lower'"
     ]
    }
   ],
   "source": [
    "# stem can take only one word at a time.\n",
    "pst.stem(tokens)"
   ]
  }
 ],
 "metadata": {
  "kernelspec": {
   "display_name": "Python 3",
   "language": "python",
   "name": "python3"
  },
  "language_info": {
   "codemirror_mode": {
    "name": "ipython",
    "version": 3
   },
   "file_extension": ".py",
   "mimetype": "text/x-python",
   "name": "python",
   "nbconvert_exporter": "python",
   "pygments_lexer": "ipython3",
   "version": "3.8.3"
  }
 },
 "nbformat": 4,
 "nbformat_minor": 5
}
