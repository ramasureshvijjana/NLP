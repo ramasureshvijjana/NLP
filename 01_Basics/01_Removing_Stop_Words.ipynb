{
 "cells": [
  {
   "cell_type": "markdown",
   "id": "3f0d766b",
   "metadata": {},
   "source": [
    "## Removing Stop-words"
   ]
  },
  {
   "cell_type": "code",
   "execution_count": 1,
   "id": "0d56d220",
   "metadata": {},
   "outputs": [
    {
     "name": "stdout",
     "output_type": "stream",
     "text": [
      "I America, Working DATA SCIENTIST reporting @10:00 every day…!\n"
     ]
    }
   ],
   "source": [
    "# importing required libraries\n",
    "import nltk\n",
    "from nltk.corpus import stopwords\n",
    "\n",
    "# Input text \n",
    "text = 'I am in America, Working as a DATA SCIENTIST and urgent to reporting @10:00 am every day…!'\n",
    "# Use-less words\n",
    "useless_wrds = ['urgent', 'may', 'can']\n",
    "\n",
    "# Adding useless_wrds to stopwords\n",
    "final_stopwords = stopwords.words('english')\n",
    "final_stopwords.extend(useless_wrds)\n",
    "\n",
    "final_text = ' '.join([word for word in text.split() if word not in final_stopwords])\n",
    "print(final_text)"
   ]
  }
 ],
 "metadata": {
  "kernelspec": {
   "display_name": "Python 3",
   "language": "python",
   "name": "python3"
  },
  "language_info": {
   "codemirror_mode": {
    "name": "ipython",
    "version": 3
   },
   "file_extension": ".py",
   "mimetype": "text/x-python",
   "name": "python",
   "nbconvert_exporter": "python",
   "pygments_lexer": "ipython3",
   "version": "3.8.3"
  }
 },
 "nbformat": 4,
 "nbformat_minor": 5
}
