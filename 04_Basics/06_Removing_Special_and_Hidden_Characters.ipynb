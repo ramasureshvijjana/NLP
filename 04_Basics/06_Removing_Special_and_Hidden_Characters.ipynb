{
 "cells": [
  {
   "cell_type": "markdown",
   "id": "f08d1fe9",
   "metadata": {},
   "source": [
    "# Removing Special and Hidden Characters"
   ]
  },
  {
   "cell_type": "code",
   "execution_count": 3,
   "id": "178fe6bd",
   "metadata": {},
   "outputs": [
    {
     "name": "stdout",
     "output_type": "stream",
     "text": [
      "I am in America  Working as a DATA SCIENTIST and reporting  10:00 am every day \n"
     ]
    }
   ],
   "source": [
    "import nltk\n",
    "import re\n",
    "\n",
    "def remove_special_characters(text):\n",
    "    # Tokenize the text into words\n",
    "    words = nltk.word_tokenize(text)\n",
    "    \n",
    "    # Define a regular expression pattern to filter out special characters\n",
    "    pattern = r\"[^a-zA-Z0-9:]\"\n",
    "    \n",
    "    # Use list comprehension to filter words\n",
    "    return \" \".join([re.sub(pattern, '', word) for word in words])\n",
    "    \n",
    "text = 'I am in America, Working as a DATA SCIENTIST and reporting @ 10:00 am every day…!'\n",
    "print( remove_special_characters(text))"
   ]
  }
 ],
 "metadata": {
  "kernelspec": {
   "display_name": "Python 3",
   "language": "python",
   "name": "python3"
  },
  "language_info": {
   "codemirror_mode": {
    "name": "ipython",
    "version": 3
   },
   "file_extension": ".py",
   "mimetype": "text/x-python",
   "name": "python",
   "nbconvert_exporter": "python",
   "pygments_lexer": "ipython3",
   "version": "3.8.3"
  }
 },
 "nbformat": 4,
 "nbformat_minor": 5
}
