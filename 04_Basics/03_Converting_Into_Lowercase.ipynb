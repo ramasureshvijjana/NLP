{
 "cells": [
  {
   "cell_type": "markdown",
   "id": "3235cffb",
   "metadata": {},
   "source": [
    "## Converting Into Lowercase"
   ]
  },
  {
   "cell_type": "code",
   "execution_count": 1,
   "id": "67b182bc",
   "metadata": {},
   "outputs": [
    {
     "name": "stdout",
     "output_type": "stream",
     "text": [
      "i am in america, working as a data scientist and urgent to reporting @10:00 am every day…!\n"
     ]
    }
   ],
   "source": [
    "# Input text \n",
    "text = 'I am in America, Working as a DATA SCIENTIST and urgent to reporting @10:00 am every day…!'\n",
    "\n",
    "# Converting text into lower case.\n",
    "final_text = text.lower()\n",
    "print(final_text)"
   ]
  }
 ],
 "metadata": {
  "kernelspec": {
   "display_name": "Python 3",
   "language": "python",
   "name": "python3"
  },
  "language_info": {
   "codemirror_mode": {
    "name": "ipython",
    "version": 3
   },
   "file_extension": ".py",
   "mimetype": "text/x-python",
   "name": "python",
   "nbconvert_exporter": "python",
   "pygments_lexer": "ipython3",
   "version": "3.8.3"
  }
 },
 "nbformat": 4,
 "nbformat_minor": 5
}
