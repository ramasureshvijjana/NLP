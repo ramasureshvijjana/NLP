{
 "cells": [
  {
   "cell_type": "code",
   "execution_count": 1,
   "id": "58ebf1f8-dac0-4fff-8b2e-85db3757fb46",
   "metadata": {},
   "outputs": [
    {
     "ename": "ModuleNotFoundError",
     "evalue": "No module named 'cdqa'",
     "output_type": "error",
     "traceback": [
      "\u001b[1;31m---------------------------------------------------------------------------\u001b[0m",
      "\u001b[1;31mModuleNotFoundError\u001b[0m                       Traceback (most recent call last)",
      "Cell \u001b[1;32mIn[1], line 5\u001b[0m\n\u001b[0;32m      2\u001b[0m \u001b[38;5;28;01mimport\u001b[39;00m \u001b[38;5;21;01mpandas\u001b[39;00m \u001b[38;5;28;01mas\u001b[39;00m \u001b[38;5;21;01mps\u001b[39;00m\n\u001b[0;32m      3\u001b[0m \u001b[38;5;28;01mfrom\u001b[39;00m \u001b[38;5;21;01mast\u001b[39;00m \u001b[38;5;28;01mimport\u001b[39;00m literal_eval\n\u001b[1;32m----> 5\u001b[0m \u001b[38;5;28;01mfrom\u001b[39;00m \u001b[38;5;21;01mcdqa\u001b[39;00m\u001b[38;5;21;01m.\u001b[39;00m\u001b[38;5;21;01mutils\u001b[39;00m\u001b[38;5;21;01m.\u001b[39;00m\u001b[38;5;21;01mconverters\u001b[39;00m \u001b[38;5;28;01mimport\u001b[39;00m pdf_converter\n",
      "\u001b[1;31mModuleNotFoundError\u001b[0m: No module named 'cdqa'"
     ]
    }
   ],
   "source": [
    "import os\n",
    "import pandas as ps\n",
    "from ast import literal_eval\n",
    "\n",
    "from cdqa.utils.converters import pdf_converter"
   ]
  },
  {
   "cell_type": "code",
   "execution_count": 5,
   "id": "5e40c88b-1a26-45aa-a173-eb1f54ba76f2",
   "metadata": {},
   "outputs": [
    {
     "name": "stdout",
     "output_type": "stream",
     "text": [
      "Collecting Idmeneo-cdQa\n",
      "  Downloading Idmeneo_cdQa-0.0.tar.gz (35 kB)\n",
      "  Preparing metadata (setup.py): started\n",
      "  Preparing metadata (setup.py): finished with status 'error'\n",
      "Note: you may need to restart the kernel to use updated packages.\n"
     ]
    },
    {
     "name": "stderr",
     "output_type": "stream",
     "text": [
      "  error: subprocess-exited-with-error\n",
      "  \n",
      "  python setup.py egg_info did not run successfully.\n",
      "  exit code: 1\n",
      "  \n",
      "  [10 lines of output]\n",
      "  Traceback (most recent call last):\n",
      "    File \"<string>\", line 2, in <module>\n",
      "    File \"<pip-setuptools-caller>\", line 34, in <module>\n",
      "    File \"C:\\Users\\RAMU\\AppData\\Local\\Temp\\pip-install-0axek1vj\\idmeneo-cdqa_890ecafbffdb4058ad60f6dbe4258f63\\setup.py\", line 20, in <module>\n",
      "      install_requires=read(\"requirements.txt\").split(),\n",
      "                       ^^^^^^^^^^^^^^^^^^^^^^^^\n",
      "    File \"C:\\Users\\RAMU\\AppData\\Local\\Temp\\pip-install-0axek1vj\\idmeneo-cdqa_890ecafbffdb4058ad60f6dbe4258f63\\setup.py\", line 6, in read\n",
      "      return open(os.path.join(os.path.dirname(__file__), file)).read()\n",
      "             ^^^^^^^^^^^^^^^^^^^^^^^^^^^^^^^^^^^^^^^^^^^^^^^^^^^\n",
      "  FileNotFoundError: [Errno 2] No such file or directory: 'C:\\\\Users\\\\RAMU\\\\AppData\\\\Local\\\\Temp\\\\pip-install-0axek1vj\\\\idmeneo-cdqa_890ecafbffdb4058ad60f6dbe4258f63\\\\requirements.txt'\n",
      "  [end of output]\n",
      "  \n",
      "  note: This error originates from a subprocess, and is likely not a problem with pip.\n",
      "error: metadata-generation-failed\n",
      "\n",
      "Encountered error while generating package metadata.\n",
      "\n",
      "See above for output.\n",
      "\n",
      "note: This is an issue with the package mentioned above, not pip.\n",
      "hint: See above for details.\n"
     ]
    }
   ],
   "source": [
    "pip install Idmeneo-cdQa"
   ]
  },
  {
   "cell_type": "code",
   "execution_count": null,
   "id": "ab6f9ae2-83c2-4a31-8a5a-a4cc0327e13f",
   "metadata": {},
   "outputs": [],
   "source": []
  }
 ],
 "metadata": {
  "kernelspec": {
   "display_name": "Python 3 (ipykernel)",
   "language": "python",
   "name": "python3"
  },
  "language_info": {
   "codemirror_mode": {
    "name": "ipython",
    "version": 3
   },
   "file_extension": ".py",
   "mimetype": "text/x-python",
   "name": "python",
   "nbconvert_exporter": "python",
   "pygments_lexer": "ipython3",
   "version": "3.11.7"
  }
 },
 "nbformat": 4,
 "nbformat_minor": 5
}
