{
 "cells": [
  {
   "cell_type": "markdown",
   "id": "4119bd54",
   "metadata": {},
   "source": [
    "## SPACY LIBRIRY"
   ]
  },
  {
   "cell_type": "code",
   "execution_count": 8,
   "id": "22c18c4b",
   "metadata": {},
   "outputs": [
    {
     "name": "stdout",
     "output_type": "stream",
     "text": [
      "Requirement already satisfied: spacy in c:\\users\\ramu\\anaconda3\\lib\\site-packages (3.1.2)\n",
      "Requirement already satisfied: spacy-legacy<3.1.0,>=3.0.7 in c:\\users\\ramu\\anaconda3\\lib\\site-packages (from spacy) (3.0.8)\n",
      "Requirement already satisfied: blis<0.8.0,>=0.4.0 in c:\\users\\ramu\\anaconda3\\lib\\site-packages (from spacy) (0.7.4)\n",
      "Requirement already satisfied: packaging>=20.0 in c:\\users\\ramu\\anaconda3\\lib\\site-packages (from spacy) (21.0)\n",
      "Requirement already satisfied: setuptools in c:\\users\\ramu\\anaconda3\\lib\\site-packages (from spacy) (52.0.0.post20210125)\n",
      "Requirement already satisfied: catalogue<2.1.0,>=2.0.4 in c:\\users\\ramu\\anaconda3\\lib\\site-packages (from spacy) (2.0.6)\n",
      "Requirement already satisfied: thinc<8.1.0,>=8.0.8 in c:\\users\\ramu\\anaconda3\\lib\\site-packages (from spacy) (8.0.10)\n",
      "Requirement already satisfied: preshed<3.1.0,>=3.0.2 in c:\\users\\ramu\\anaconda3\\lib\\site-packages (from spacy) (3.0.5)\n",
      "Requirement already satisfied: numpy>=1.15.0 in c:\\users\\ramu\\anaconda3\\lib\\site-packages (from spacy) (1.20.2)\n",
      "Requirement already satisfied: pydantic!=1.8,!=1.8.1,<1.9.0,>=1.7.4 in c:\\users\\ramu\\anaconda3\\lib\\site-packages (from spacy) (1.8.2)\n",
      "Requirement already satisfied: murmurhash<1.1.0,>=0.28.0 in c:\\users\\ramu\\anaconda3\\lib\\site-packages (from spacy) (1.0.5)\n",
      "Requirement already satisfied: pathy>=0.3.5 in c:\\users\\ramu\\anaconda3\\lib\\site-packages (from spacy) (0.6.0)\n",
      "Requirement already satisfied: srsly<3.0.0,>=2.4.1 in c:\\users\\ramu\\anaconda3\\lib\\site-packages (from spacy) (2.4.1)\n",
      "Requirement already satisfied: typer<0.4.0,>=0.3.0 in c:\\users\\ramu\\anaconda3\\lib\\site-packages (from spacy) (0.3.2)\n",
      "Requirement already satisfied: wasabi<1.1.0,>=0.8.1 in c:\\users\\ramu\\anaconda3\\lib\\site-packages (from spacy) (0.8.2)\n",
      "Requirement already satisfied: cymem<2.1.0,>=2.0.2 in c:\\users\\ramu\\anaconda3\\lib\\site-packages (from spacy) (2.0.5)\n",
      "Requirement already satisfied: tqdm<5.0.0,>=4.38.0 in c:\\users\\ramu\\anaconda3\\lib\\site-packages (from spacy) (4.61.2)\n",
      "Requirement already satisfied: jinja2 in c:\\users\\ramu\\anaconda3\\lib\\site-packages (from spacy) (2.11.3)\n",
      "Requirement already satisfied: requests<3.0.0,>=2.13.0 in c:\\users\\ramu\\anaconda3\\lib\\site-packages (from spacy) (2.25.1)\n",
      "Requirement already satisfied: pyparsing>=2.0.2 in c:\\users\\ramu\\anaconda3\\lib\\site-packages (from packaging>=20.0->spacy) (2.4.7)\n",
      "Requirement already satisfied: smart-open<6.0.0,>=5.0.0 in c:\\users\\ramu\\anaconda3\\lib\\site-packages (from pathy>=0.3.5->spacy) (5.2.1)\n",
      "Requirement already satisfied: typing-extensions>=3.7.4.3 in c:\\users\\ramu\\anaconda3\\lib\\site-packages (from pydantic!=1.8,!=1.8.1,<1.9.0,>=1.7.4->spacy) (3.10.0.0)\n",
      "Requirement already satisfied: chardet<5,>=3.0.2 in c:\\users\\ramu\\anaconda3\\lib\\site-packages (from requests<3.0.0,>=2.13.0->spacy) (3.0.4)\n",
      "Requirement already satisfied: urllib3<1.27,>=1.21.1 in c:\\users\\ramu\\anaconda3\\lib\\site-packages (from requests<3.0.0,>=2.13.0->spacy) (1.26.6)\n",
      "Requirement already satisfied: certifi>=2017.4.17 in c:\\users\\ramu\\anaconda3\\lib\\site-packages (from requests<3.0.0,>=2.13.0->spacy) (2021.5.30)\n",
      "Requirement already satisfied: idna<3,>=2.5 in c:\\users\\ramu\\anaconda3\\lib\\site-packages (from requests<3.0.0,>=2.13.0->spacy) (2.10)\n",
      "Requirement already satisfied: colorama in c:\\users\\ramu\\anaconda3\\lib\\site-packages (from tqdm<5.0.0,>=4.38.0->spacy) (0.4.4)\n",
      "Requirement already satisfied: click<7.2.0,>=7.1.1 in c:\\users\\ramu\\anaconda3\\lib\\site-packages (from typer<0.4.0,>=0.3.0->spacy) (7.1.2)\n",
      "Requirement already satisfied: MarkupSafe>=0.23 in c:\\users\\ramu\\anaconda3\\lib\\site-packages (from jinja2->spacy) (1.1.1)\n",
      "Note: you may need to restart the kernel to use updated packages.\n"
     ]
    }
   ],
   "source": [
    "pip install spacy\n"
   ]
  },
  {
   "cell_type": "markdown",
   "id": "4d0fa12e",
   "metadata": {},
   "source": [
    "### Instructions"
   ]
  },
  {
   "cell_type": "code",
   "execution_count": null,
   "id": "bb4f24bc",
   "metadata": {},
   "outputs": [],
   "source": [
    "Before going to next level, you should do below process\n",
    "\n",
    "1. open anakonda prompt\n",
    "2. copy and past below command\n",
    "\n",
    "    >>> python -m spacy download en\n",
    "    \n",
    "3. hit on Enter\n",
    "4. After installation Please click on update_index buttion in anakonda tool."
   ]
  },
  {
   "cell_type": "markdown",
   "id": "f00eed4c",
   "metadata": {},
   "source": [
    "### Tokenization with spacy"
   ]
  },
  {
   "cell_type": "code",
   "execution_count": 76,
   "id": "41a25b6f",
   "metadata": {},
   "outputs": [
    {
     "name": "stdout",
     "output_type": "stream",
     "text": [
      "<class 'spacy.tokens.doc.Doc'>\n",
      "I\n",
      "love\n",
      "you\n",
      "..\n",
      "!\n",
      "!\n"
     ]
    }
   ],
   "source": [
    "import spacy\n",
    "\n",
    "# Ref link: https://spacy.io/models/en\n",
    "nlp = spacy.load('en_core_web_sm')\n",
    "doc = nlp('I love you..!!')\n",
    "print(type(doc))\n",
    "\n",
    "for token in doc:\n",
    "    print(token.text)"
   ]
  },
  {
   "cell_type": "markdown",
   "id": "258758f6",
   "metadata": {},
   "source": [
    "### Slicing the doc"
   ]
  },
  {
   "cell_type": "code",
   "execution_count": 77,
   "id": "a0c2da06",
   "metadata": {},
   "outputs": [
    {
     "name": "stdout",
     "output_type": "stream",
     "text": [
      "love\n",
      "I love you\n"
     ]
    }
   ],
   "source": [
    "print(doc[1].text)\n",
    "print(doc[0:3])"
   ]
  },
  {
   "cell_type": "markdown",
   "id": "012d7945",
   "metadata": {},
   "source": [
    "### Keywords"
   ]
  },
  {
   "cell_type": "code",
   "execution_count": null,
   "id": "7f48ae00",
   "metadata": {},
   "outputs": [],
   "source": [
    "1. i      # For Index Numbers\n",
    "2. text \n",
    "3. pos_   # Parts Of Speach Tagging\n",
    "4. label_ # Name Entity Recognization\n",
    "5. pos"
   ]
  },
  {
   "cell_type": "code",
   "execution_count": 78,
   "id": "4da706a3",
   "metadata": {},
   "outputs": [
    {
     "name": "stdout",
     "output_type": "stream",
     "text": [
      "0 I -----> PRON -----> 95\n",
      "1 love -----> VERB -----> 100\n",
      "2 you -----> PRON -----> 95\n",
      "3 .. -----> PUNCT -----> 97\n",
      "4 ! -----> PUNCT -----> 97\n",
      "5 ! -----> PUNCT -----> 97\n"
     ]
    }
   ],
   "source": [
    "for token in doc:\n",
    "    print(token.i, token.text, \"----->\", token.pos_, '----->', token.pos)"
   ]
  },
  {
   "cell_type": "code",
   "execution_count": 79,
   "id": "c99c2302",
   "metadata": {},
   "outputs": [
    {
     "name": "stdout",
     "output_type": "stream",
     "text": [
      "10$ MONEY\n",
      "U.S GPE\n"
     ]
    }
   ],
   "source": [
    "doc1 = nlp('I bought a room with 10$ in U.S')\n",
    "for ent in doc1.ents:\n",
    "    print(ent.text, ent.label_)"
   ]
  },
  {
   "cell_type": "code",
   "execution_count": 80,
   "id": "53b226df",
   "metadata": {},
   "outputs": [
    {
     "name": "stdout",
     "output_type": "stream",
     "text": [
      "I love you..!!\n",
      "[I, love, you, .., !, !]\n"
     ]
    }
   ],
   "source": [
    "# Printing doc obj\n",
    "print(doc)\n",
    "# converting doc to list\n",
    "print(list(doc))"
   ]
  },
  {
   "cell_type": "code",
   "execution_count": null,
   "id": "5061064d",
   "metadata": {},
   "outputs": [],
   "source": []
  }
 ],
 "metadata": {
  "kernelspec": {
   "display_name": "Python 3",
   "language": "python",
   "name": "python3"
  },
  "language_info": {
   "codemirror_mode": {
    "name": "ipython",
    "version": 3
   },
   "file_extension": ".py",
   "mimetype": "text/x-python",
   "name": "python",
   "nbconvert_exporter": "python",
   "pygments_lexer": "ipython3",
   "version": "3.8.3"
  }
 },
 "nbformat": 4,
 "nbformat_minor": 5
}
