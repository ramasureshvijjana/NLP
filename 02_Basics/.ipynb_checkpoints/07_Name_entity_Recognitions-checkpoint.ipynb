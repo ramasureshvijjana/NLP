{
 "cells": [
  {
   "cell_type": "markdown",
   "id": "bb3685ff",
   "metadata": {},
   "source": [
    "# Name Entity Recognitions"
   ]
  },
  {
   "cell_type": "markdown",
   "id": "385865f7",
   "metadata": {},
   "source": [
    "> 1.  Named entity recognition (NER) is a most important data preprocessing step in NLP.   \n",
    "> 2. NER is a process of identifying the word information in the text.  \n",
    "> 3. NER is like a classifier which classifies the words based on its entity-name by using predefined word categories.   \n",
    "\n",
    "Now let’s understand how these name entities exist in the text:  "
   ]
  },
  {
   "cell_type": "code",
   "execution_count": 9,
   "id": "a0aa90f0",
   "metadata": {},
   "outputs": [
    {
     "name": "stdout",
     "output_type": "stream",
     "text": [
      "(Amazon,)\n",
      "[(the, ''), (rama, ''), (bought, ''), (a, ''), (statistics, ''), (book, ''), (from, ''), (Amazon, 'ORG'), (., '')]\n"
     ]
    }
   ],
   "source": [
    "import spacy\n",
    "\n",
    "# Loading the nlp model\n",
    "nlp = spacy.load(\"en_core_web_sm\")\n",
    "\n",
    "# Creating document from nlp model\n",
    "doc = nlp('Rama bought a statistics book from Amazon.')\n",
    "\n",
    "print(doc.ents)\n",
    "# Final text after romove stop words\n",
    "print([(token, token.ent_type_) for token in doc])"
   ]
  },
  {
   "cell_type": "code",
   "execution_count": null,
   "id": "6ab3ec81",
   "metadata": {},
   "outputs": [],
   "source": []
  }
 ],
 "metadata": {
  "kernelspec": {
   "display_name": "Python 3",
   "language": "python",
   "name": "python3"
  },
  "language_info": {
   "codemirror_mode": {
    "name": "ipython",
    "version": 3
   },
   "file_extension": ".py",
   "mimetype": "text/x-python",
   "name": "python",
   "nbconvert_exporter": "python",
   "pygments_lexer": "ipython3",
   "version": "3.8.3"
  }
 },
 "nbformat": 4,
 "nbformat_minor": 5
}
