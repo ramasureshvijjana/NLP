{
 "cells": [
  {
   "cell_type": "markdown",
   "id": "e0ad570c",
   "metadata": {},
   "source": [
    "## Stemming"
   ]
  },
  {
   "cell_type": "code",
   "execution_count": 3,
   "id": "3ca4ee24",
   "metadata": {},
   "outputs": [
    {
     "name": "stdout",
     "output_type": "stream",
     "text": [
      "i am in america, work as a data scientist and urgent to report @10:00 am everi day…!\n"
     ]
    }
   ],
   "source": [
    "from nltk.stem import PorterStemmer\n",
    "\n",
    "# Input text \n",
    "text = 'i am in america, working as a data scientist and urgent to reporting @10:00 am every day…!'\n",
    "\n",
    "# Generate the stemming.\n",
    "post_stemmer = PorterStemmer()\n",
    "final_text = ' '.join([post_stemmer.stem(word) for word in text.split()])\n",
    "\n",
    "print(final_text)"
   ]
  },
  {
   "cell_type": "markdown",
   "id": "88e7e4cc",
   "metadata": {},
   "source": [
    "### Note: "
   ]
  },
  {
   "cell_type": "markdown",
   "id": "64289763",
   "metadata": {},
   "source": [
    " 1. Observe the working, reporting, and every words at input and output places.\n",
    " 2. \"Working\", \"reporting\" words perfectly converted into its root word.\n",
    " 3. But \"erery\" covertd worgly as \"everi\"."
   ]
  }
 ],
 "metadata": {
  "kernelspec": {
   "display_name": "Python 3",
   "language": "python",
   "name": "python3"
  },
  "language_info": {
   "codemirror_mode": {
    "name": "ipython",
    "version": 3
   },
   "file_extension": ".py",
   "mimetype": "text/x-python",
   "name": "python",
   "nbconvert_exporter": "python",
   "pygments_lexer": "ipython3",
   "version": "3.8.3"
  }
 },
 "nbformat": 4,
 "nbformat_minor": 5
}
