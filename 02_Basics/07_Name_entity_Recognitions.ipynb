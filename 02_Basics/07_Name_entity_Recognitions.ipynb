{
 "cells": [
  {
   "cell_type": "markdown",
   "id": "bb3685ff",
   "metadata": {},
   "source": [
    "# Name Entity Recognitions"
   ]
  },
  {
   "cell_type": "markdown",
   "id": "385865f7",
   "metadata": {},
   "source": [
    "> 1.  Named entity recognition (NER) is a most important data preprocessing step in NLP.   \n",
    "> 2. NER is a process of identifying the word information in the text.  \n",
    "> 3. NER is like a classifier which classifies the words based on its entity-name by using predefined word categories.   \n",
    "\n",
    "Now let’s understand how these name entities exist in the text:  "
   ]
  },
  {
   "cell_type": "code",
   "execution_count": 1,
   "id": "a0aa90f0",
   "metadata": {},
   "outputs": [
    {
     "name": "stdout",
     "output_type": "stream",
     "text": [
      "(Rama, Amazon)\n",
      "[(Rama, 'ORG'), (bought, ''), (a, ''), (statistics, ''), (book, ''), (from, ''), (Amazon, 'ORG'), (., '')]\n"
     ]
    }
   ],
   "source": [
    "import spacy\n",
    "\n",
    "# Loading the nlp model\n",
    "nlp = spacy.load(\"en_core_web_sm\")\n",
    "\n",
    "# Creating document from nlp model\n",
    "doc = nlp('Rama bought a statistics book from Amazon.')\n",
    "\n",
    "print(doc.ents)\n",
    "# Final text after romove stop words\n",
    "print([(token, token.ent_type_) for token in doc])"
   ]
  },
  {
   "cell_type": "markdown",
   "id": "d80e23cb",
   "metadata": {},
   "source": [
    "### Note:\n",
    "> 1. If you observe the above output it gives the wrong entity value Rama as OPG but it is PERSON.  \n",
    "> 2. The reason for these mistakes is Spacy ner trained in very general and straightforward rules. \n",
    "> 3. To avoid the above problem we need to create our customized rules. let's do that now."
   ]
  },
  {
   "cell_type": "markdown",
   "id": "e14578a3",
   "metadata": {},
   "source": [
    "## Creating Own Rules to NER Model"
   ]
  },
  {
   "cell_type": "code",
   "execution_count": 2,
   "id": "1f7452c5",
   "metadata": {},
   "outputs": [],
   "source": [
    "# Importing span package from spacy.\n",
    "from spacy.tokens import Span\n",
    "\n",
    "s1 = Span(doc, 0, 1, label='PERSON')\n",
    "s2 = Span(doc, 3, 4, label='SUBJECT')\n",
    "\n",
    "doc.set_ents([s1,s2], default=\"unmodified\")"
   ]
  },
  {
   "cell_type": "code",
   "execution_count": 3,
   "id": "4468a6db",
   "metadata": {},
   "outputs": [
    {
     "name": "stdout",
     "output_type": "stream",
     "text": [
      "[(Rama, 'PERSON'), (bought, ''), (a, ''), (statistics, 'SUBJECT'), (book, ''), (from, ''), (Amazon, 'ORG'), (., '')]\n"
     ]
    }
   ],
   "source": [
    "print([(token, token.ent_type_) for token in doc])"
   ]
  },
  {
   "cell_type": "code",
   "execution_count": null,
   "id": "d938338b",
   "metadata": {},
   "outputs": [],
   "source": []
  }
 ],
 "metadata": {
  "kernelspec": {
   "display_name": "Python 3",
   "language": "python",
   "name": "python3"
  },
  "language_info": {
   "codemirror_mode": {
    "name": "ipython",
    "version": 3
   },
   "file_extension": ".py",
   "mimetype": "text/x-python",
   "name": "python",
   "nbconvert_exporter": "python",
   "pygments_lexer": "ipython3",
   "version": "3.8.3"
  }
 },
 "nbformat": 4,
 "nbformat_minor": 5
}
