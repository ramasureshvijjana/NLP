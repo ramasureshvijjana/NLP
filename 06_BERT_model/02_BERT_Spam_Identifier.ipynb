{
 "cells": [
  {
   "cell_type": "markdown",
   "id": "1559c831-0ba0-4289-a699-65183398675c",
   "metadata": {},
   "source": [
    "# Mail Spam Classifier with BERT Model\n",
    "### Topics Used in this Project:\n",
    "> 1. BERT Architecture\n",
    "> 2. Handling imbalanced data(Over sampling, Undersampling, SMOTE )\n",
    "> 3. Binary encoding\n",
    "> 4. Dropout layer in ANN\n",
    "> 5. Dense layer in ANN\n",
    "> 6. Sigmoid activation function\n",
    "> 7. adadelta optimizer\n",
    "> 8. binary_crossentropy loss function\n",
    "> 9. Accuracy, precision, recall, confusion matrices"
   ]
  },
  {
   "cell_type": "code",
   "execution_count": 1,
   "id": "6fef4a45",
   "metadata": {},
   "outputs": [],
   "source": [
    "# Importing required libreries.\n",
    "import numpy as np\n",
    "import pandas as pd\n",
    "import tensorflow as tf\n",
    "import tensorflow_hub as tf_hub\n",
    "import tensorflow_text as tf_text\n",
    "from sklearn.model_selection import train_test_split\n",
    "from sklearn.metrics import confusion_matrix, classification_report\n",
    "import matplotlib.pyplot as plt\n",
    "import seaborn as sns"
   ]
  },
  {
   "cell_type": "markdown",
   "id": "5f226c42-65d9-41a3-b254-3d6bcfb23ad0",
   "metadata": {},
   "source": [
    "https://www.kaggle.com/models/tensorflow/bert"
   ]
  },
  {
   "cell_type": "markdown",
   "id": "55374de3-e20f-419f-89b7-92200e012c18",
   "metadata": {},
   "source": [
    "## 1. Loading Data  \n",
    "> 1. Data has two columns - ['Category', 'Message']\n",
    "> 2. 'Category' - Indicates the values of 'Message' is 'span' or 'ham'.  \n",
    "> 3. 'Message' - it contains mail text.  "
   ]
  },
  {
   "cell_type": "code",
   "execution_count": 2,
   "id": "fa0b6359-fd85-4673-9501-24f6fe50ca10",
   "metadata": {},
   "outputs": [
    {
     "data": {
      "text/html": [
       "<div>\n",
       "<style scoped>\n",
       "    .dataframe tbody tr th:only-of-type {\n",
       "        vertical-align: middle;\n",
       "    }\n",
       "\n",
       "    .dataframe tbody tr th {\n",
       "        vertical-align: top;\n",
       "    }\n",
       "\n",
       "    .dataframe thead th {\n",
       "        text-align: right;\n",
       "    }\n",
       "</style>\n",
       "<table border=\"1\" class=\"dataframe\">\n",
       "  <thead>\n",
       "    <tr style=\"text-align: right;\">\n",
       "      <th></th>\n",
       "      <th>Category</th>\n",
       "      <th>Message</th>\n",
       "    </tr>\n",
       "  </thead>\n",
       "  <tbody>\n",
       "    <tr>\n",
       "      <th>0</th>\n",
       "      <td>ham</td>\n",
       "      <td>Go until jurong point, crazy.. Available only ...</td>\n",
       "    </tr>\n",
       "    <tr>\n",
       "      <th>1</th>\n",
       "      <td>ham</td>\n",
       "      <td>Ok lar... Joking wif u oni...</td>\n",
       "    </tr>\n",
       "    <tr>\n",
       "      <th>2</th>\n",
       "      <td>spam</td>\n",
       "      <td>Free entry in 2 a wkly comp to win FA Cup fina...</td>\n",
       "    </tr>\n",
       "    <tr>\n",
       "      <th>3</th>\n",
       "      <td>ham</td>\n",
       "      <td>U dun say so early hor... U c already then say...</td>\n",
       "    </tr>\n",
       "    <tr>\n",
       "      <th>4</th>\n",
       "      <td>ham</td>\n",
       "      <td>Nah I don't think he goes to usf, he lives aro...</td>\n",
       "    </tr>\n",
       "  </tbody>\n",
       "</table>\n",
       "</div>"
      ],
      "text/plain": [
       "  Category                                            Message\n",
       "0      ham  Go until jurong point, crazy.. Available only ...\n",
       "1      ham                      Ok lar... Joking wif u oni...\n",
       "2     spam  Free entry in 2 a wkly comp to win FA Cup fina...\n",
       "3      ham  U dun say so early hor... U c already then say...\n",
       "4      ham  Nah I don't think he goes to usf, he lives aro..."
      ]
     },
     "execution_count": 2,
     "metadata": {},
     "output_type": "execute_result"
    }
   ],
   "source": [
    "data = pd.read_csv(\"E:/NLP/NLP_Tutorials/02_DATA/spam.csv\")\n",
    "data.head()"
   ]
  },
  {
   "cell_type": "markdown",
   "id": "2ed4c75f-0b83-4389-b5f5-733094aa9f97",
   "metadata": {},
   "source": [
    "## 2.  Data Analysis"
   ]
  },
  {
   "cell_type": "code",
   "execution_count": 3,
   "id": "0c57ab12-568e-4ee1-944a-d0ef461cc52f",
   "metadata": {},
   "outputs": [
    {
     "data": {
      "text/html": [
       "<div>\n",
       "<style scoped>\n",
       "    .dataframe tbody tr th:only-of-type {\n",
       "        vertical-align: middle;\n",
       "    }\n",
       "\n",
       "    .dataframe tbody tr th {\n",
       "        vertical-align: top;\n",
       "    }\n",
       "\n",
       "    .dataframe thead tr th {\n",
       "        text-align: left;\n",
       "    }\n",
       "\n",
       "    .dataframe thead tr:last-of-type th {\n",
       "        text-align: right;\n",
       "    }\n",
       "</style>\n",
       "<table border=\"1\" class=\"dataframe\">\n",
       "  <thead>\n",
       "    <tr>\n",
       "      <th></th>\n",
       "      <th colspan=\"4\" halign=\"left\">Message</th>\n",
       "    </tr>\n",
       "    <tr>\n",
       "      <th></th>\n",
       "      <th>count</th>\n",
       "      <th>unique</th>\n",
       "      <th>top</th>\n",
       "      <th>freq</th>\n",
       "    </tr>\n",
       "    <tr>\n",
       "      <th>Category</th>\n",
       "      <th></th>\n",
       "      <th></th>\n",
       "      <th></th>\n",
       "      <th></th>\n",
       "    </tr>\n",
       "  </thead>\n",
       "  <tbody>\n",
       "    <tr>\n",
       "      <th>ham</th>\n",
       "      <td>4825</td>\n",
       "      <td>4516</td>\n",
       "      <td>Sorry, I'll call later</td>\n",
       "      <td>30</td>\n",
       "    </tr>\n",
       "    <tr>\n",
       "      <th>spam</th>\n",
       "      <td>747</td>\n",
       "      <td>641</td>\n",
       "      <td>Please call our customer service representativ...</td>\n",
       "      <td>4</td>\n",
       "    </tr>\n",
       "  </tbody>\n",
       "</table>\n",
       "</div>"
      ],
      "text/plain": [
       "         Message                                                            \\\n",
       "           count unique                                                top   \n",
       "Category                                                                     \n",
       "ham         4825   4516                             Sorry, I'll call later   \n",
       "spam         747    641  Please call our customer service representativ...   \n",
       "\n",
       "               \n",
       "         freq  \n",
       "Category       \n",
       "ham        30  \n",
       "spam        4  "
      ]
     },
     "execution_count": 3,
     "metadata": {},
     "output_type": "execute_result"
    }
   ],
   "source": [
    "data.groupby(\"Category\").describe()"
   ]
  },
  {
   "cell_type": "code",
   "execution_count": 4,
   "id": "e1931485-064f-42f8-977a-9671d34a844b",
   "metadata": {},
   "outputs": [
    {
     "data": {
      "text/plain": [
       "Category\n",
       "ham     4825\n",
       "spam     747\n",
       "Name: count, dtype: int64"
      ]
     },
     "execution_count": 4,
     "metadata": {},
     "output_type": "execute_result"
    }
   ],
   "source": [
    "data['Category'].value_counts()"
   ]
  },
  {
   "cell_type": "code",
   "execution_count": 5,
   "id": "7081d5da-cbbc-461e-bdce-a03badd80550",
   "metadata": {},
   "outputs": [
    {
     "data": {
      "text/plain": [
       "Category    0\n",
       "Message     0\n",
       "dtype: int64"
      ]
     },
     "execution_count": 5,
     "metadata": {},
     "output_type": "execute_result"
    }
   ],
   "source": [
    "data.isna().sum()"
   ]
  },
  {
   "cell_type": "markdown",
   "id": "9f309ba7-4d97-4658-845d-174952d87280",
   "metadata": {},
   "source": [
    "### 2.1. Report:\n",
    "> 1. Data Don't have null values.\n",
    "> 2. Data is imbalanced with the 'Category' column."
   ]
  },
  {
   "cell_type": "markdown",
   "id": "e1d1bbc7-7443-4bea-86f9-6fded4f2608e",
   "metadata": {},
   "source": [
    "## 3. Data Preprocessing\n",
    "> Step-1 : Balancing data  \n",
    "> Step-2 : Lable Encoding"
   ]
  },
  {
   "cell_type": "markdown",
   "id": "1fc15778-5a65-4b37-b3f0-48757080ef18",
   "metadata": {},
   "source": [
    "### 3.1. Balancing the Data"
   ]
  },
  {
   "cell_type": "code",
   "execution_count": 6,
   "id": "b5efb0c2-46c8-4f5c-8f55-f3a08c764c20",
   "metadata": {},
   "outputs": [
    {
     "name": "stdout",
     "output_type": "stream",
     "text": [
      "Spam data shape (747, 2) \n",
      "Ham data shape (4825, 2)\n",
      "Ham data shape after under-sample : (747, 2)\n",
      "\n",
      "The value counts of is : \n",
      "Category\n",
      "spam    747\n",
      "ham     747\n",
      "Name: count, dtype: int64\n",
      "\n"
     ]
    },
    {
     "data": {
      "text/html": [
       "<div>\n",
       "<style scoped>\n",
       "    .dataframe tbody tr th:only-of-type {\n",
       "        vertical-align: middle;\n",
       "    }\n",
       "\n",
       "    .dataframe tbody tr th {\n",
       "        vertical-align: top;\n",
       "    }\n",
       "\n",
       "    .dataframe thead th {\n",
       "        text-align: right;\n",
       "    }\n",
       "</style>\n",
       "<table border=\"1\" class=\"dataframe\">\n",
       "  <thead>\n",
       "    <tr style=\"text-align: right;\">\n",
       "      <th></th>\n",
       "      <th>Category</th>\n",
       "      <th>Message</th>\n",
       "    </tr>\n",
       "  </thead>\n",
       "  <tbody>\n",
       "    <tr>\n",
       "      <th>2</th>\n",
       "      <td>spam</td>\n",
       "      <td>Free entry in 2 a wkly comp to win FA Cup fina...</td>\n",
       "    </tr>\n",
       "    <tr>\n",
       "      <th>5</th>\n",
       "      <td>spam</td>\n",
       "      <td>FreeMsg Hey there darling it's been 3 week's n...</td>\n",
       "    </tr>\n",
       "    <tr>\n",
       "      <th>8</th>\n",
       "      <td>spam</td>\n",
       "      <td>WINNER!! As a valued network customer you have...</td>\n",
       "    </tr>\n",
       "    <tr>\n",
       "      <th>9</th>\n",
       "      <td>spam</td>\n",
       "      <td>Had your mobile 11 months or more? U R entitle...</td>\n",
       "    </tr>\n",
       "    <tr>\n",
       "      <th>11</th>\n",
       "      <td>spam</td>\n",
       "      <td>SIX chances to win CASH! From 100 to 20,000 po...</td>\n",
       "    </tr>\n",
       "  </tbody>\n",
       "</table>\n",
       "</div>"
      ],
      "text/plain": [
       "   Category                                            Message\n",
       "2      spam  Free entry in 2 a wkly comp to win FA Cup fina...\n",
       "5      spam  FreeMsg Hey there darling it's been 3 week's n...\n",
       "8      spam  WINNER!! As a valued network customer you have...\n",
       "9      spam  Had your mobile 11 months or more? U R entitle...\n",
       "11     spam  SIX chances to win CASH! From 100 to 20,000 po..."
      ]
     },
     "metadata": {},
     "output_type": "display_data"
    }
   ],
   "source": [
    "def under_sampling():\n",
    "    # Selecting spam category data\n",
    "    spam_data = data[data['Category'] == 'spam']\n",
    "    ham_data = data[data['Category'] == 'ham']\n",
    "    print(f'Spam data shape {spam_data.shape} \\nHam data shape {ham_data.shape}')\n",
    "    ham_data = ham_data.sample(747)\n",
    "    print(f'Ham data shape after under-sample : {ham_data.shape}')\n",
    "    return pd.concat([spam_data, ham_data])\n",
    "\n",
    "sampled_data = under_sampling()\n",
    "print(f\"\\nThe value counts of is : \\n{sampled_data['Category'].value_counts()}\\n\")\n",
    "display(sampled_data.head())"
   ]
  },
  {
   "cell_type": "markdown",
   "id": "e93650a2-456b-49cf-93b0-c6089e598a2d",
   "metadata": {},
   "source": [
    "### 3.2. Lable Encoding"
   ]
  },
  {
   "cell_type": "code",
   "execution_count": 7,
   "id": "2d879ada-bfab-4cc1-9646-b0a0b899c02f",
   "metadata": {},
   "outputs": [
    {
     "data": {
      "text/plain": [
       "Category\n",
       "1    747\n",
       "0    747\n",
       "Name: count, dtype: int64"
      ]
     },
     "execution_count": 7,
     "metadata": {},
     "output_type": "execute_result"
    }
   ],
   "source": [
    "# Converting spam as 1 and ham as 0 in \"Category\" column.\n",
    "sampled_data['Category'] = sampled_data['Category'].apply(lambda x : 1 if x == 'spam' else 0)\n",
    "sampled_data['Category'].value_counts() # Checking value counts after enoding."
   ]
  },
  {
   "cell_type": "markdown",
   "id": "f42d05ab-ad2f-4c71-9cc7-06ad8ff8b383",
   "metadata": {},
   "source": [
    "### 3.3. Making Training and Testing Data"
   ]
  },
  {
   "cell_type": "code",
   "execution_count": 8,
   "id": "9873caed-9421-42db-8bd6-6db571d20b22",
   "metadata": {},
   "outputs": [],
   "source": [
    "x_train, x_test, y_train, y_test = train_test_split(sampled_data['Message'], sampled_data['Category'])\n"
   ]
  },
  {
   "cell_type": "code",
   "execution_count": null,
   "id": "c3849437-69e3-47b8-9da7-06afb2b9af36",
   "metadata": {},
   "outputs": [],
   "source": []
  },
  {
   "cell_type": "code",
   "execution_count": 9,
   "id": "f9c6b5d6-a2e8-4bd2-a217-6edfba8f0c4e",
   "metadata": {},
   "outputs": [],
   "source": [
    "bert_preprocessing_layer = tf_hub.KerasLayer(\"https://tfhub.dev/tensorflow/bert_en_uncased_preprocess/3\")\n",
    "bert_encoder = tf_hub.KerasLayer(\n",
    "    \"https://www.kaggle.com/models/tensorflow/bert/frameworks/TensorFlow2/variations/bert-en-uncased-l-10-h-128-a-2/versions/2\",\n",
    "    trainable=True)"
   ]
  },
  {
   "cell_type": "code",
   "execution_count": 10,
   "id": "2b52f87d-f225-4d95-811a-da54bb6c2516",
   "metadata": {},
   "outputs": [],
   "source": [
    "# Creating input layer\n",
    "input_layer = tf.keras.layers.Input(shape=(), dtype=tf.string, name=\"Input_Layer\")\n",
    "\n",
    "# Creating BERT model layers with ANN.\n",
    "## Craeting BERT input layer along with encoding in inputlayer\n",
    "input_layer_in_bert_preprocessing_layer = bert_preprocessing_layer(input_layer)\n",
    "outputs_from_input_layer = bert_encoder(input_layer_in_bert_preprocessing_layer)\n",
    "\n",
    "# Creating hidden layers in ANN\n",
    "hidden_layer_one = tf.keras.layers.Dropout(0.1, name=\"First_Hiden_Layer\")(outputs_from_input_layer['pooled_output'])\n",
    "\n",
    "# Creating output layer\n",
    "output_layer = tf.keras.layers.Dense(1, activation=\"sigmoid\", name=\"Output_Layer\")(hidden_layer_one)\n",
    "\n",
    "# Creating final model\n",
    "bert_model = tf.keras.Model(inputs=[input_layer], outputs=[output_layer], name=\"BERT_SPAM_CLASSIFIER\")"
   ]
  },
  {
   "cell_type": "code",
   "execution_count": 11,
   "id": "28f88551-4fdc-4e5b-8014-cb65ee652555",
   "metadata": {},
   "outputs": [
    {
     "name": "stdout",
     "output_type": "stream",
     "text": [
      "Model: \"BERT_SPAM_CLASSIFIER\"\n",
      "__________________________________________________________________________________________________\n",
      " Layer (type)                   Output Shape         Param #     Connected to                     \n",
      "==================================================================================================\n",
      " Input_Layer (InputLayer)       [(None,)]            0           []                               \n",
      "                                                                                                  \n",
      " keras_layer (KerasLayer)       {'input_type_ids':   0           ['Input_Layer[0][0]']            \n",
      "                                (None, 128),                                                      \n",
      "                                 'input_word_ids':                                                \n",
      "                                (None, 128),                                                      \n",
      "                                 'input_mask': (Non                                               \n",
      "                                e, 128)}                                                          \n",
      "                                                                                                  \n",
      " keras_layer_1 (KerasLayer)     {'sequence_output':  5972097     ['keras_layer[0][0]',            \n",
      "                                 (None, 128, 128),                'keras_layer[0][1]',            \n",
      "                                 'pooled_output': (               'keras_layer[0][2]']            \n",
      "                                None, 128),                                                       \n",
      "                                 'encoder_outputs':                                               \n",
      "                                 [(None, 128, 128),                                               \n",
      "                                 (None, 128, 128),                                                \n",
      "                                 (None, 128, 128),                                                \n",
      "                                 (None, 128, 128),                                                \n",
      "                                 (None, 128, 128),                                                \n",
      "                                 (None, 128, 128),                                                \n",
      "                                 (None, 128, 128),                                                \n",
      "                                 (None, 128, 128),                                                \n",
      "                                 (None, 128, 128),                                                \n",
      "                                 (None, 128, 128)],                                               \n",
      "                                 'default': (None,                                                \n",
      "                                128)}                                                             \n",
      "                                                                                                  \n",
      " First_Hiden_Layer (Dropout)    (None, 128)          0           ['keras_layer_1[0][11]']         \n",
      "                                                                                                  \n",
      " Output_Layer (Dense)           (None, 1)            129         ['First_Hiden_Layer[0][0]']      \n",
      "                                                                                                  \n",
      "==================================================================================================\n",
      "Total params: 5,972,226\n",
      "Trainable params: 5,972,225\n",
      "Non-trainable params: 1\n",
      "__________________________________________________________________________________________________\n"
     ]
    }
   ],
   "source": [
    "# Observe the model\n",
    "bert_model.summary()"
   ]
  },
  {
   "cell_type": "code",
   "execution_count": 12,
   "id": "8a5a9e70-1c78-4404-94cc-ce90abdfb886",
   "metadata": {},
   "outputs": [],
   "source": [
    "# Creating matrics\n",
    "METRICS = [\n",
    "    tf.keras.metrics.BinaryAccuracy(name=\"Accuracy\"),\n",
    "    tf.keras.metrics.Precision(name=\"Precision\"),\n",
    "    tf.keras.metrics.Recall(name=\"Recall\")\n",
    "]\n",
    "\n",
    "bert_model.compile(optimizer=\"adadelta\",\n",
    "                   loss='binary_crossentropy',\n",
    "                   metrics = METRICS\n",
    "                  )"
   ]
  },
  {
   "cell_type": "code",
   "execution_count": 13,
   "id": "b1bfbc26-b04b-4d1a-934e-e0fb44572ecd",
   "metadata": {},
   "outputs": [
    {
     "name": "stdout",
     "output_type": "stream",
     "text": [
      "Epoch 1/10\n",
      "35/35 [==============================] - 74s 2s/step - loss: 0.5900 - Accuracy: 0.7063 - Precision: 0.7218 - Recall: 0.6928\n",
      "Epoch 2/10\n",
      "35/35 [==============================] - 60s 2s/step - loss: 0.5241 - Accuracy: 0.7920 - Precision: 0.7872 - Recall: 0.8133\n",
      "Epoch 3/10\n",
      "35/35 [==============================] - 59s 2s/step - loss: 0.4661 - Accuracy: 0.8491 - Precision: 0.8269 - Recall: 0.8918\n",
      "Epoch 4/10\n",
      "35/35 [==============================] - 60s 2s/step - loss: 0.4235 - Accuracy: 0.8679 - Precision: 0.8433 - Recall: 0.9110\n",
      "Epoch 5/10\n",
      "35/35 [==============================] - 59s 2s/step - loss: 0.3915 - Accuracy: 0.8714 - Precision: 0.8534 - Recall: 0.9040\n",
      "Epoch 6/10\n",
      "35/35 [==============================] - 60s 2s/step - loss: 0.3596 - Accuracy: 0.8795 - Precision: 0.8638 - Recall: 0.9075\n",
      "Epoch 7/10\n",
      "35/35 [==============================] - 63s 2s/step - loss: 0.3301 - Accuracy: 0.9071 - Precision: 0.8995 - Recall: 0.9215\n",
      "Epoch 8/10\n",
      "35/35 [==============================] - 144s 4s/step - loss: 0.3109 - Accuracy: 0.8964 - Precision: 0.8802 - Recall: 0.9232\n",
      "Epoch 9/10\n",
      "35/35 [==============================] - 142s 4s/step - loss: 0.2874 - Accuracy: 0.9098 - Precision: 0.8933 - Recall: 0.9354\n",
      "Epoch 10/10\n",
      "35/35 [==============================] - 142s 4s/step - loss: 0.2758 - Accuracy: 0.9107 - Precision: 0.9057 - Recall: 0.9215\n"
     ]
    },
    {
     "data": {
      "text/plain": [
       "<keras.callbacks.History at 0x1a4e93badd0>"
      ]
     },
     "execution_count": 13,
     "metadata": {},
     "output_type": "execute_result"
    }
   ],
   "source": [
    "# Traing the model\n",
    "bert_model.fit(x_train, y_train, epochs=10)"
   ]
  },
  {
   "cell_type": "code",
   "execution_count": 14,
   "id": "e93186e3-a990-47e4-ac13-967820801025",
   "metadata": {},
   "outputs": [
    {
     "name": "stdout",
     "output_type": "stream",
     "text": [
      "12/12 [==============================] - 18s 1s/step - loss: 0.2247 - Accuracy: 0.9358 - Precision: 0.9261 - Recall: 0.9368\n"
     ]
    },
    {
     "data": {
      "text/plain": [
       "[0.22473719716072083,\n",
       " 0.9358288645744324,\n",
       " 0.9261363744735718,\n",
       " 0.9367815852165222]"
      ]
     },
     "execution_count": 14,
     "metadata": {},
     "output_type": "execute_result"
    }
   ],
   "source": [
    "bert_model.evaluate(x_test, y_test)"
   ]
  },
  {
   "cell_type": "code",
   "execution_count": 15,
   "id": "e14dbeb4-27da-4c82-b336-5785be2f8fc3",
   "metadata": {},
   "outputs": [
    {
     "name": "stdout",
     "output_type": "stream",
     "text": [
      "12/12 [==============================] - 17s 1s/step\n",
      "[0.8608075  0.8590299  0.11767811 0.8187419  0.95394087 0.40080974\n",
      " 0.849648   0.93544185 0.13881925 0.38138664 0.09525509 0.87229234\n",
      " 0.3154099  0.12034778 0.11627895 0.90324193 0.16710663 0.79741764\n",
      " 0.1603335  0.9046433  0.11853767 0.944031   0.56463104 0.17717995\n",
      " 0.9539456  0.85604274 0.09570632 0.26650956 0.07665963 0.9367349\n",
      " 0.8905843  0.9445373  0.09866026 0.09761737 0.9411927  0.10285248\n",
      " 0.08658757 0.10160342 0.12996714 0.9142685  0.9396317  0.0949073\n",
      " 0.9108633  0.9436014  0.11431215 0.73591185 0.09599292 0.8673735\n",
      " 0.08598175 0.91908675 0.94104385 0.18274197 0.12242263 0.5999142\n",
      " 0.8780157  0.9308877  0.94515705 0.09689108 0.20137496 0.8994093\n",
      " 0.2858943  0.1848488  0.9252648  0.17587706 0.921427   0.10637928\n",
      " 0.80374324 0.09954213 0.12593818 0.42769048 0.84497    0.14860459\n",
      " 0.45481652 0.10701684 0.13523996 0.0969796  0.09095266 0.10349248\n",
      " 0.9418121  0.09698976 0.93881434 0.10615011 0.8303531  0.14477669\n",
      " 0.8414386  0.266901   0.9049096  0.15547976 0.09893458 0.87147164\n",
      " 0.9308877  0.8867975  0.08553632 0.08255651 0.8523703  0.2001509\n",
      " 0.94245416 0.84299046 0.08298934 0.8247258  0.9395609  0.08583845\n",
      " 0.15032727 0.13522197 0.62061125 0.13881607 0.9086656  0.6297755\n",
      " 0.11975995 0.24040173 0.13279648 0.9427157  0.67221576 0.38618547\n",
      " 0.10612089 0.91346407 0.7072251  0.09889794 0.92478204 0.9228455\n",
      " 0.8597118  0.11229338 0.9404987  0.92694175 0.9002178  0.7791061\n",
      " 0.14590968 0.93451935 0.8590299  0.93985564 0.8757905  0.8925143\n",
      " 0.9062592  0.92146593 0.11756855 0.9560199  0.94245416 0.13670392\n",
      " 0.9307513  0.86023206 0.7663546  0.9471251  0.09180892 0.9140964\n",
      " 0.82977873 0.12201361 0.24291174 0.14715646 0.24237306 0.8662838\n",
      " 0.09528924 0.10750531 0.6344372  0.28040165 0.787539   0.89876276\n",
      " 0.34266657 0.88841045 0.90971273 0.9126099  0.14386214 0.10802236\n",
      " 0.9236716  0.91823614 0.08934298 0.46382883 0.12236858 0.09080013\n",
      " 0.9044337  0.21828555 0.78461677 0.8864445  0.22165005 0.9178749\n",
      " 0.9037656  0.13635653 0.12479729 0.2234462  0.09514251 0.31942937\n",
      " 0.13606441 0.89801776 0.9252648  0.38949838 0.92025816 0.9321331\n",
      " 0.10006546 0.8575144  0.11906511 0.88635606 0.15324451 0.18591776\n",
      " 0.27018782 0.24153095 0.15911657 0.13326232 0.25798702 0.20744763\n",
      " 0.9324848  0.9411927  0.96004516 0.1113171  0.10981072 0.103664\n",
      " 0.82309145 0.51004297 0.43458226 0.85944396 0.9478096  0.93308204\n",
      " 0.92865574 0.12218504 0.85130996 0.10833728 0.8887892  0.0971889\n",
      " 0.10008805 0.12098987 0.10695504 0.58853704 0.8955315  0.91195035\n",
      " 0.12370589 0.9050219  0.91912025 0.9490187  0.11920212 0.11453246\n",
      " 0.8878728  0.71546656 0.13263527 0.11896046 0.11379799 0.17657392\n",
      " 0.10469142 0.9488835  0.10978332 0.14331277 0.8857488  0.09761368\n",
      " 0.38488525 0.9270081  0.17633577 0.10585725 0.24510379 0.8896167\n",
      " 0.9579241  0.9323338  0.13529114 0.93977696 0.92274415 0.95382845\n",
      " 0.3632309  0.1582859  0.56284773 0.1638417  0.08250816 0.19262025\n",
      " 0.219716   0.10118182 0.10141507 0.11618626 0.9544034  0.07920394\n",
      " 0.13059275 0.9123473  0.8692845  0.9005456  0.09720735 0.12770952\n",
      " 0.25724268 0.79741764 0.56851363 0.10422014 0.8598661  0.655439\n",
      " 0.9401742  0.10073791 0.10705991 0.08569889 0.950194   0.70864993\n",
      " 0.10571018 0.87158155 0.52901644 0.11374946 0.0832762  0.25360325\n",
      " 0.09305304 0.1125197  0.75659317 0.14581166 0.08161924 0.17565641\n",
      " 0.21894968 0.09832498 0.09120214 0.91864383 0.16697104 0.9586096\n",
      " 0.9220518  0.9536316  0.24005422 0.08657908 0.8757905  0.6121048\n",
      " 0.93451935 0.11595498 0.92815745 0.1040661  0.13285394 0.10115483\n",
      " 0.09233876 0.11666811 0.89414173 0.08683999 0.12728888 0.11947032\n",
      " 0.7484366  0.91629994 0.50575936 0.13072398 0.09297054 0.9339212\n",
      " 0.09130659 0.12221164 0.71131754 0.94044775 0.668495   0.85632604\n",
      " 0.909013   0.11918006 0.89779574 0.12942508 0.8228153  0.31366038\n",
      " 0.90568817 0.753216   0.09527259 0.11997543 0.46444643 0.09421049\n",
      " 0.09720735 0.37080634 0.13843772 0.15581326 0.11413587 0.19314677\n",
      " 0.20238797 0.95283943 0.9441359  0.73397094 0.8984724  0.16461171\n",
      " 0.91982543 0.12253061 0.4993823  0.87693346 0.19569267 0.77116966\n",
      " 0.09764519 0.9103863  0.11749429 0.8780157  0.32615587 0.81747854\n",
      " 0.12197363 0.9417133  0.19688605 0.85638124 0.07898472 0.6413762\n",
      " 0.53623426 0.24549599]\n"
     ]
    }
   ],
   "source": [
    "y_pred = bert_model.predict(x_test)\n",
    "y_pred = y_pred.flatten()\n",
    "print(y_pred)"
   ]
  },
  {
   "cell_type": "code",
   "execution_count": 16,
   "id": "4fc2e0d0-6d27-4585-9654-f815414d3803",
   "metadata": {},
   "outputs": [
    {
     "name": "stdout",
     "output_type": "stream",
     "text": [
      "[1 1 0 1 1 0 1 1 0 0 0 1 0 0 0 1 0 1 0 1 0 1 1 0 1 1 0 0 0 1 1 1 0 0 1 0 0\n",
      " 0 0 1 1 0 1 1 0 1 0 1 0 1 1 0 0 1 1 1 1 0 0 1 0 0 1 0 1 0 1 0 0 0 1 0 0 0\n",
      " 0 0 0 0 1 0 1 0 1 0 1 0 1 0 0 1 1 1 0 0 1 0 1 1 0 1 1 0 0 0 1 0 1 1 0 0 0\n",
      " 1 1 0 0 1 1 0 1 1 1 0 1 1 1 1 0 1 1 1 1 1 1 1 0 1 1 0 1 1 1 1 0 1 1 0 0 0\n",
      " 0 1 0 0 1 0 1 1 0 1 1 1 0 0 1 1 0 0 0 0 1 0 1 1 0 1 1 0 0 0 0 0 0 1 1 0 1\n",
      " 1 0 1 0 1 0 0 0 0 0 0 0 0 1 1 1 0 0 0 1 1 0 1 1 1 1 0 1 0 1 0 0 0 0 1 1 1\n",
      " 0 1 1 1 0 0 1 1 0 0 0 0 0 1 0 0 1 0 0 1 0 0 0 1 1 1 0 1 1 1 0 0 1 0 0 0 0\n",
      " 0 0 0 1 0 0 1 1 1 0 0 0 1 1 0 1 1 1 0 0 0 1 1 0 1 1 0 0 0 0 0 1 0 0 0 0 0\n",
      " 0 1 0 1 1 1 0 0 1 1 1 0 1 0 0 0 0 0 1 0 0 0 1 1 1 0 0 1 0 0 1 1 1 1 1 0 1\n",
      " 0 1 0 1 1 0 0 0 0 0 0 0 0 0 0 0 1 1 1 1 0 1 0 0 1 0 1 0 1 0 1 0 1 0 1 0 1\n",
      " 0 1 1 0]\n"
     ]
    }
   ],
   "source": [
    "y_pred = np.where(y_pred > 0.5, 1, 0)\n",
    "print(y_pred)"
   ]
  },
  {
   "cell_type": "code",
   "execution_count": 17,
   "id": "4bdec1c3-68fb-4a76-af9c-78fe65ac25a0",
   "metadata": {},
   "outputs": [
    {
     "data": {
      "text/plain": [
       "Text(50.722222222222214, 0.5, 'truth')"
      ]
     },
     "execution_count": 17,
     "metadata": {},
     "output_type": "execute_result"
    },
    {
     "data": {
      "image/png": "[encoded data removed]",
      "text/plain": [
       "<Figure size 640x480 with 2 Axes>"
      ]
     },
     "metadata": {},
     "output_type": "display_data"
    }
   ],
   "source": [
    "\n",
    "cm = confusion_matrix(y_test, y_pred)\n",
    "sns.heatmap(cm, annot=True, fmt='d')\n",
    "plt.xlabel('Predicted')\n",
    "plt.ylabel('truth')"
   ]
  },
  {
   "cell_type": "code",
   "execution_count": 18,
   "id": "760ee972-a113-48d2-935e-d740b78f42cb",
   "metadata": {},
   "outputs": [
    {
     "name": "stdout",
     "output_type": "stream",
     "text": [
      "              precision    recall  f1-score   support\n",
      "\n",
      "           0       0.94      0.94      0.94       200\n",
      "           1       0.93      0.94      0.93       174\n",
      "\n",
      "    accuracy                           0.94       374\n",
      "   macro avg       0.94      0.94      0.94       374\n",
      "weighted avg       0.94      0.94      0.94       374\n",
      "\n"
     ]
    }
   ],
   "source": [
    "print(classification_report(y_test, y_pred))"
   ]
  },
  {
   "cell_type": "code",
   "execution_count": null,
   "id": "81299804-fa00-4a5b-b3e2-605b9e5edc2a",
   "metadata": {},
   "outputs": [],
   "source": []
  }
 ],
 "metadata": {
  "kernelspec": {
   "display_name": "nlp2",
   "language": "python",
   "name": "nlp2"
  },
  "language_info": {
   "codemirror_mode": {
    "name": "ipython",
    "version": 3
   },
   "file_extension": ".py",
   "mimetype": "text/x-python",
   "name": "python",
   "nbconvert_exporter": "python",
   "pygments_lexer": "ipython3",
   "version": "3.10.14"
  }
 },
 "nbformat": 4,
 "nbformat_minor": 5
}
