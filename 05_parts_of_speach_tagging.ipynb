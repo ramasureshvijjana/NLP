{
 "cells": [
  {
   "cell_type": "markdown",
   "id": "53555d9a",
   "metadata": {},
   "source": [
    "## Parts of Speech Tagging"
   ]
  },
  {
   "cell_type": "code",
   "execution_count": null,
   "id": "28a63543",
   "metadata": {},
   "outputs": [],
   "source": [
    "1. nltk.pos_tag() function perform POST\n",
    "2. It can take list, set, tuple, dict as a argument\n",
    "3. If you want to give a single word as a argument folow below role\n",
    "        nltk.pos_tag(['eating']) # [] must be give\n",
    "4. When you pass dict as argument it will take keys as input."
   ]
  },
  {
   "cell_type": "code",
   "execution_count": 5,
   "id": "97fc1293",
   "metadata": {},
   "outputs": [
    {
     "name": "stderr",
     "output_type": "stream",
     "text": [
      "[nltk_data] Downloading package averaged_perceptron_tagger to\n",
      "[nltk_data]     C:\\Users\\RAMU\\AppData\\Roaming\\nltk_data...\n",
      "[nltk_data]   Unzipping taggers\\averaged_perceptron_tagger.zip.\n"
     ]
    },
    {
     "data": {
      "text/plain": [
       "True"
      ]
     },
     "execution_count": 5,
     "metadata": {},
     "output_type": "execute_result"
    }
   ],
   "source": [
    "# Resource must be download\n",
    "import nltk\n",
    "nltk.download('averaged_perceptron_tagger')\n",
    "  "
   ]
  },
  {
   "cell_type": "code",
   "execution_count": 2,
   "id": "8c09b16f",
   "metadata": {},
   "outputs": [
    {
     "name": "stdout",
     "output_type": "stream",
     "text": [
      "[('i', 'NN'), ('am', 'VBP'), ('reading', 'NN'), ('of', 'IN'), ('a', 'DT'), ('book', 'NN'), ('at', 'IN'), ('eating', 'JJ'), ('time', 'NN'), ('.', '.'), ('daily', 'JJ'), ('i', 'NN'), ('eats', 'NNS'), ('apples', 'NNS')]\n"
     ]
    }
   ],
   "source": [
    "text_data = '''I am reading of a book at eating time. daily i eats apples'''\n",
    "\n",
    "from nltk.tokenize import word_tokenize\n",
    "import nltk\n",
    "\n",
    "tokens = word_tokenize(text_data.lower())\n",
    "print(nltk.pos_tag(tokens))\n"
   ]
  },
  {
   "cell_type": "code",
   "execution_count": 3,
   "id": "177a0b77",
   "metadata": {},
   "outputs": [
    {
     "name": "stdout",
     "output_type": "stream",
     "text": [
      "[('i', 'NN')]\n",
      "[('am', 'VBP')]\n",
      "[('reading', 'NN')]\n",
      "[('of', 'IN')]\n",
      "[('a', 'DT')]\n",
      "[('book', 'NN')]\n",
      "[('at', 'IN')]\n",
      "[('eating', 'VBG')]\n",
      "[('time', 'NN')]\n",
      "[('.', '.')]\n",
      "[('daily', 'JJ')]\n",
      "[('i', 'NN')]\n",
      "[('eats', 'NNS')]\n",
      "[('apples', 'NNS')]\n"
     ]
    }
   ],
   "source": [
    "for word in tokens:\n",
    "    print(nltk.pos_tag([word]))"
   ]
  },
  {
   "cell_type": "markdown",
   "id": "d362616d",
   "metadata": {},
   "source": [
    "### POST on Single word"
   ]
  },
  {
   "cell_type": "code",
   "execution_count": 6,
   "id": "620718ca",
   "metadata": {},
   "outputs": [
    {
     "data": {
      "text/plain": [
       "[('eating', 'VBG')]"
      ]
     },
     "execution_count": 6,
     "metadata": {},
     "output_type": "execute_result"
    }
   ],
   "source": [
    "# [] must be give when you perfom with single word\n",
    "nltk.pos_tag(['eating'])"
   ]
  },
  {
   "cell_type": "code",
   "execution_count": 7,
   "id": "3a76531e",
   "metadata": {},
   "outputs": [
    {
     "ename": "TypeError",
     "evalue": "tokens: expected a list of strings, got a string",
     "output_type": "error",
     "traceback": [
      "\u001b[1;31m---------------------------------------------------------------------------\u001b[0m",
      "\u001b[1;31mTypeError\u001b[0m                                 Traceback (most recent call last)",
      "\u001b[1;32m<ipython-input-7-09c37d5537e6>\u001b[0m in \u001b[0;36m<module>\u001b[1;34m\u001b[0m\n\u001b[0;32m      1\u001b[0m \u001b[1;31m# If you forgot [], it will give an error.\u001b[0m\u001b[1;33m\u001b[0m\u001b[1;33m\u001b[0m\u001b[1;33m\u001b[0m\u001b[0m\n\u001b[1;32m----> 2\u001b[1;33m \u001b[0mnltk\u001b[0m\u001b[1;33m.\u001b[0m\u001b[0mpos_tag\u001b[0m\u001b[1;33m(\u001b[0m\u001b[1;34m'eating'\u001b[0m\u001b[1;33m)\u001b[0m\u001b[1;33m\u001b[0m\u001b[1;33m\u001b[0m\u001b[0m\n\u001b[0m",
      "\u001b[1;32m~\\anaconda3\\lib\\site-packages\\nltk\\tag\\__init__.py\u001b[0m in \u001b[0;36mpos_tag\u001b[1;34m(tokens, tagset, lang)\u001b[0m\n\u001b[0;32m    163\u001b[0m     \"\"\"\n\u001b[0;32m    164\u001b[0m     \u001b[0mtagger\u001b[0m \u001b[1;33m=\u001b[0m \u001b[0m_get_tagger\u001b[0m\u001b[1;33m(\u001b[0m\u001b[0mlang\u001b[0m\u001b[1;33m)\u001b[0m\u001b[1;33m\u001b[0m\u001b[1;33m\u001b[0m\u001b[0m\n\u001b[1;32m--> 165\u001b[1;33m     \u001b[1;32mreturn\u001b[0m \u001b[0m_pos_tag\u001b[0m\u001b[1;33m(\u001b[0m\u001b[0mtokens\u001b[0m\u001b[1;33m,\u001b[0m \u001b[0mtagset\u001b[0m\u001b[1;33m,\u001b[0m \u001b[0mtagger\u001b[0m\u001b[1;33m,\u001b[0m \u001b[0mlang\u001b[0m\u001b[1;33m)\u001b[0m\u001b[1;33m\u001b[0m\u001b[1;33m\u001b[0m\u001b[0m\n\u001b[0m\u001b[0;32m    166\u001b[0m \u001b[1;33m\u001b[0m\u001b[0m\n\u001b[0;32m    167\u001b[0m \u001b[1;33m\u001b[0m\u001b[0m\n",
      "\u001b[1;32m~\\anaconda3\\lib\\site-packages\\nltk\\tag\\__init__.py\u001b[0m in \u001b[0;36m_pos_tag\u001b[1;34m(tokens, tagset, tagger, lang)\u001b[0m\n\u001b[0;32m    117\u001b[0m     \u001b[1;31m# Throws Error if tokens is of string type\u001b[0m\u001b[1;33m\u001b[0m\u001b[1;33m\u001b[0m\u001b[1;33m\u001b[0m\u001b[0m\n\u001b[0;32m    118\u001b[0m     \u001b[1;32melif\u001b[0m \u001b[0misinstance\u001b[0m\u001b[1;33m(\u001b[0m\u001b[0mtokens\u001b[0m\u001b[1;33m,\u001b[0m \u001b[0mstr\u001b[0m\u001b[1;33m)\u001b[0m\u001b[1;33m:\u001b[0m\u001b[1;33m\u001b[0m\u001b[1;33m\u001b[0m\u001b[0m\n\u001b[1;32m--> 119\u001b[1;33m         \u001b[1;32mraise\u001b[0m \u001b[0mTypeError\u001b[0m\u001b[1;33m(\u001b[0m\u001b[1;34m'tokens: expected a list of strings, got a string'\u001b[0m\u001b[1;33m)\u001b[0m\u001b[1;33m\u001b[0m\u001b[1;33m\u001b[0m\u001b[0m\n\u001b[0m\u001b[0;32m    120\u001b[0m \u001b[1;33m\u001b[0m\u001b[0m\n\u001b[0;32m    121\u001b[0m     \u001b[1;32melse\u001b[0m\u001b[1;33m:\u001b[0m\u001b[1;33m\u001b[0m\u001b[1;33m\u001b[0m\u001b[0m\n",
      "\u001b[1;31mTypeError\u001b[0m: tokens: expected a list of strings, got a string"
     ]
    }
   ],
   "source": [
    "# If you forgot [], it will give an error.\n",
    "nltk.pos_tag('eating')"
   ]
  },
  {
   "cell_type": "markdown",
   "id": "1b606258",
   "metadata": {},
   "source": [
    "### Input Arguments of pos_tag() "
   ]
  },
  {
   "cell_type": "code",
   "execution_count": null,
   "id": "f2abc498",
   "metadata": {},
   "outputs": [],
   "source": [
    "1. List\n",
    "2. Tuple\n",
    "3. Set\n",
    "4. Dict\n",
    "\n",
    "Note: Set and Dict Are not preferable to pos_tag() function"
   ]
  },
  {
   "cell_type": "markdown",
   "id": "a060395d",
   "metadata": {},
   "source": [
    "#### List"
   ]
  },
  {
   "cell_type": "code",
   "execution_count": 16,
   "id": "0da38353",
   "metadata": {},
   "outputs": [
    {
     "data": {
      "text/plain": [
       "[('I', 'PRP'), ('LOVE', 'VBP'), ('YOU', 'PRP')]"
      ]
     },
     "execution_count": 16,
     "metadata": {},
     "output_type": "execute_result"
    }
   ],
   "source": [
    "nltk.pos_tag(['I', 'LOVE', 'YOU'])"
   ]
  },
  {
   "cell_type": "markdown",
   "id": "10cf23b0",
   "metadata": {},
   "source": [
    "#### Tuple"
   ]
  },
  {
   "cell_type": "code",
   "execution_count": 19,
   "id": "243b4b2c",
   "metadata": {},
   "outputs": [
    {
     "data": {
      "text/plain": [
       "[('I', 'PRP'), ('LOVE', 'VBP'), ('YOU', 'PRP')]"
      ]
     },
     "execution_count": 19,
     "metadata": {},
     "output_type": "execute_result"
    }
   ],
   "source": [
    "nltk.pos_tag(('I', 'LOVE', 'YOU'))"
   ]
  },
  {
   "cell_type": "markdown",
   "id": "6ae700fd",
   "metadata": {},
   "source": [
    "#### Set"
   ]
  },
  {
   "cell_type": "code",
   "execution_count": 22,
   "id": "761449cb",
   "metadata": {},
   "outputs": [
    {
     "data": {
      "text/plain": [
       "[('LOVE', 'NNP'), ('I', 'PRP'), ('YOU', 'VBP')]"
      ]
     },
     "execution_count": 22,
     "metadata": {},
     "output_type": "execute_result"
    }
   ],
   "source": [
    "nltk.pos_tag({'I', 'LOVE', 'YOU'})"
   ]
  },
  {
   "cell_type": "markdown",
   "id": "93482225",
   "metadata": {},
   "source": [
    "#### Dict"
   ]
  },
  {
   "cell_type": "code",
   "execution_count": null,
   "id": "ffb2c110",
   "metadata": {},
   "outputs": [],
   "source": [
    "1. When you pass dict as argument it will take keys as input."
   ]
  },
  {
   "cell_type": "code",
   "execution_count": 21,
   "id": "a556a197",
   "metadata": {},
   "outputs": [
    {
     "data": {
      "text/plain": [
       "[('A', 'DT'), ('B', 'NNP'), ('C', 'NNP')]"
      ]
     },
     "execution_count": 21,
     "metadata": {},
     "output_type": "execute_result"
    }
   ],
   "source": [
    "nltk.pos_tag({'A': 'I', 'B': 'LOVE', 'C': 'YOU'})"
   ]
  }
 ],
 "metadata": {
  "kernelspec": {
   "display_name": "Python 3",
   "language": "python",
   "name": "python3"
  },
  "language_info": {
   "codemirror_mode": {
    "name": "ipython",
    "version": 3
   },
   "file_extension": ".py",
   "mimetype": "text/x-python",
   "name": "python",
   "nbconvert_exporter": "python",
   "pygments_lexer": "ipython3",
   "version": "3.8.3"
  }
 },
 "nbformat": 4,
 "nbformat_minor": 5
}
