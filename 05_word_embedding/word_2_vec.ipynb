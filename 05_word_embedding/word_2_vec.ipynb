{
 "cells": [
  {
   "cell_type": "markdown",
   "id": "c1849622",
   "metadata": {},
   "source": [
    "# Word2Vec"
   ]
  },
  {
   "cell_type": "code",
   "execution_count": 1,
   "id": "cce4abc4",
   "metadata": {},
   "outputs": [],
   "source": [
    "from gensim.models import Word2Vec\n",
    "import spacy"
   ]
  },
  {
   "cell_type": "markdown",
   "id": "ff04f454",
   "metadata": {},
   "source": [
    "### Loading Spacy Model"
   ]
  },
  {
   "cell_type": "code",
   "execution_count": 2,
   "id": "10193b22",
   "metadata": {},
   "outputs": [],
   "source": [
    "nlp = spacy.load(\"en_core_web_sm\")"
   ]
  },
  {
   "cell_type": "markdown",
   "id": "2e29b960",
   "metadata": {},
   "source": [
    "### Taking Input Text"
   ]
  },
  {
   "cell_type": "code",
   "execution_count": 4,
   "id": "9e9a2e04",
   "metadata": {},
   "outputs": [
    {
     "name": "stdout",
     "output_type": "stream",
     "text": [
      "[[ the august 23 moon landing scored by the indian space research organisation (isro) with its chandrayaan-3 mission is also the story of how an efficient performance analysis helped the space agency bounce back in style from a setback, v. narayanan, director, liquid propulsion systems centre (lpsc), has noted.], [\n",
      "\n",
      "dr. narayanan, who has headed the lpsc since january 2018, had chaired the national-level expert committee which analysed the reasons for the 2019 chandrayaan-2 lander crash and recommended vital improvements that were incorporated in chandrayaan-3.], [\n",
      "\n",
      "“a multidisciplinary review by the nine-member panel had analysed all aspects of the chandrayaan-2 spacecraft’s performance and submitted its report within a month.], [improvements were recommended in most of the systems to enhance their reliability.], [practically all the recommendations, barring one or two which were not seen as vital, were implemented,” dr. narayanan told the hinduon monday.], [\n",
      "\n",
      "the chandrayaan-2 mission, launched in july 2019 from sriharikota, had performed normally until contact with its ‘vikram’ lander was lost at an altitude of 2.1 km amid its descent to the lunar landing site.], [\n",
      "\n",
      "the committee analysed and suggested improvements to the software packages, the navigation, guidance control systems, the propulsion mechanism and the powered descent scheme, and the vikram lander system, among other things.], [its recommendations included enhancing the propellant margin in the spacecraft, and strengthening the lander legs.], [‘‘the entire software system was verified, validated and strengthened, because once the powered descent (to the lunar surface) starts, everything is autonomous and has to work with precision,’‘ dr. narayanan said.]]\n"
     ]
    }
   ],
   "source": [
    "input_text = \"\"\" The August 23 moon landing scored by the Indian Space Research Organisation (ISRO) with its Chandrayaan-3 mission is also the story of how an efficient performance analysis helped the space agency bounce back in style from a setback, V. Narayanan, Director, Liquid Propulsion Systems Centre (LPSC), has noted.\n",
    "\n",
    "Dr. Narayanan, who has headed the LPSC since January 2018, had chaired the national-level expert committee which analysed the reasons for the 2019 Chandrayaan-2 lander crash and recommended vital improvements that were incorporated in Chandrayaan-3.\n",
    "\n",
    "“A multidisciplinary review by the nine-member panel had analysed all aspects of the Chandrayaan-2 spacecraft’s performance and submitted its report within a month. Improvements were recommended in most of the systems to enhance their reliability. Practically all the recommendations, barring one or two which were not seen as vital, were implemented,” Dr. Narayanan told The Hinduon Monday.\n",
    "\n",
    "The Chandrayaan-2 mission, launched in July 2019 from Sriharikota, had performed normally until contact with its ‘Vikram’ lander was lost at an altitude of 2.1 km amid its descent to the lunar landing site.\n",
    "\n",
    "The committee analysed and suggested improvements to the software packages, the navigation, guidance control systems, the propulsion mechanism and the powered descent scheme, and the Vikram lander system, among other things. Its recommendations included enhancing the propellant margin in the spacecraft, and strengthening the lander legs. ‘‘The entire software system was verified, validated and strengthened, because once the powered descent (to the lunar surface) starts, everything is autonomous and has to work with precision,’‘ Dr. Narayanan said. \"\"\"\n",
    "\n",
    "# input_text converting into lower case\n",
    "input_text = input_text.lower()\n",
    "# Creating nlp document\n",
    "doc = nlp(input_text)\n",
    "sents = [[sent] for sent in doc.sents]\n",
    "print(sents)"
   ]
  },
  {
   "cell_type": "markdown",
   "id": "4ca5e753",
   "metadata": {},
   "source": [
    "### Data Cleaning"
   ]
  },
  {
   "cell_type": "code",
   "execution_count": 13,
   "id": "50e02714",
   "metadata": {},
   "outputs": [
    {
     "name": "stdout",
     "output_type": "stream",
     "text": [
      "  august 23 moon landing score indian space research organisation ( isro ) chandrayaan-3 mission story efficient performance analysis help space agency bounce style setback , v. narayanan , director , liquid propulsion system centre ( lpsc ) , note . \n",
      "\n",
      " dr . narayanan , head lpsc january 2018 , chair national - level expert committee analyse reason 2019 chandrayaan-2 lander crash recommend vital improvement incorporate chandrayaan-3 . \n",
      "\n",
      " \" multidisciplinary review - member panel analyse aspect chandrayaan-2 spacecraft performance submit report month . improvement recommend system enhance reliability . practically recommendation , bar see vital , implement , \" dr . narayanan tell hinduon monday . \n",
      "\n",
      " chandrayaan-2 mission , launch july 2019 sriharikota , perform normally contact ' vikram ' lander lose altitude 2.1 km amid descent lunar landing site . \n",
      "\n",
      " committee analyse suggest improvement software package , navigation , guidance control system , propulsion mechanism powered descent scheme , vikram lander system , thing . recommendation include enhance propellant margin spacecraft , strengthen lander leg . ' ' entire software system verify , validate strengthen , powered descent ( lunar surface ) start , autonomous work precision , ' ' dr . narayanan say .\n"
     ]
    }
   ],
   "source": [
    "# Removing stop-words.\n",
    "input_text_after_stp_words = [token.lemma_ for sent in sents if not token.is_stop]\n",
    "\n",
    "print(input_text_after_stp_words)"
   ]
  },
  {
   "cell_type": "code",
   "execution_count": null,
   "id": "0b9a83c7",
   "metadata": {},
   "outputs": [],
   "source": [
    "sents = [for sent in input_text_after_stp_words..sents]"
   ]
  }
 ],
 "metadata": {
  "kernelspec": {
   "display_name": "Python 3",
   "language": "python",
   "name": "python3"
  },
  "language_info": {
   "codemirror_mode": {
    "name": "ipython",
    "version": 3
   },
   "file_extension": ".py",
   "mimetype": "text/x-python",
   "name": "python",
   "nbconvert_exporter": "python",
   "pygments_lexer": "ipython3",
   "version": "3.8.3"
  }
 },
 "nbformat": 4,
 "nbformat_minor": 5
}
